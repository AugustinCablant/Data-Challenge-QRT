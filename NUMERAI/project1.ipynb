{
 "cells": [
  {
   "cell_type": "code",
   "execution_count": 13,
   "metadata": {},
   "outputs": [
    {
     "name": "stdout",
     "output_type": "stream",
     "text": [
      "Requirement already satisfied: numerapi in /Users/augustincablant/opt/anaconda3/lib/python3.9/site-packages (2.15.0)\n",
      "Requirement already satisfied: tqdm>=4.29.1 in /Users/augustincablant/opt/anaconda3/lib/python3.9/site-packages (from numerapi) (4.64.1)\n",
      "Requirement already satisfied: python-dateutil in /Users/augustincablant/opt/anaconda3/lib/python3.9/site-packages (from numerapi) (2.8.2)\n",
      "Requirement already satisfied: pytz in /Users/augustincablant/opt/anaconda3/lib/python3.9/site-packages (from numerapi) (2023.3)\n",
      "Requirement already satisfied: pandas>=1.1.0 in /Users/augustincablant/opt/anaconda3/lib/python3.9/site-packages (from numerapi) (1.4.4)\n",
      "Requirement already satisfied: click>=7.0 in /Users/augustincablant/opt/anaconda3/lib/python3.9/site-packages (from numerapi) (8.0.4)\n",
      "Requirement already satisfied: requests in /Users/augustincablant/opt/anaconda3/lib/python3.9/site-packages (from numerapi) (2.31.0)\n",
      "Requirement already satisfied: numpy>=1.18.5 in /Users/augustincablant/opt/anaconda3/lib/python3.9/site-packages (from pandas>=1.1.0->numerapi) (1.22.4)\n",
      "Requirement already satisfied: six>=1.5 in /Users/augustincablant/opt/anaconda3/lib/python3.9/site-packages (from python-dateutil->numerapi) (1.16.0)\n",
      "Requirement already satisfied: certifi>=2017.4.17 in /Users/augustincablant/opt/anaconda3/lib/python3.9/site-packages (from requests->numerapi) (2023.5.7)\n",
      "Requirement already satisfied: idna<4,>=2.5 in /Users/augustincablant/opt/anaconda3/lib/python3.9/site-packages (from requests->numerapi) (3.3)\n",
      "Requirement already satisfied: charset-normalizer<4,>=2 in /Users/augustincablant/opt/anaconda3/lib/python3.9/site-packages (from requests->numerapi) (2.0.4)\n",
      "Requirement already satisfied: urllib3<3,>=1.21.1 in /Users/augustincablant/opt/anaconda3/lib/python3.9/site-packages (from requests->numerapi) (1.26.11)\n",
      "Collecting pyarrow\n",
      "  Downloading pyarrow-12.0.1-cp39-cp39-macosx_10_14_x86_64.whl (24.8 MB)\n",
      "\u001b[2K     \u001b[90m━━━━━━━━━━━━━━━━━━━━━━━━━━━━━━━━━━━━━━━━\u001b[0m \u001b[32m24.8/24.8 MB\u001b[0m \u001b[31m13.0 MB/s\u001b[0m eta \u001b[36m0:00:00\u001b[0m00:01\u001b[0m00:01\u001b[0m\n",
      "\u001b[?25hRequirement already satisfied: numpy>=1.16.6 in /Users/augustincablant/opt/anaconda3/lib/python3.9/site-packages (from pyarrow) (1.22.4)\n",
      "Installing collected packages: pyarrow\n",
      "Successfully installed pyarrow-12.0.1\n"
     ]
    }
   ],
   "source": [
    "!pip install numerapi\n",
    "!pip install pyarrow"
   ]
  },
  {
   "cell_type": "code",
   "execution_count": 1,
   "metadata": {},
   "outputs": [],
   "source": [
    "import matplotlib\n",
    "import numpy as np\n",
    "import pandas as pd\n",
    "from numerapi import NumerAPI\n",
    "import random\n",
    "import matplotlib.pyplot as plt\n",
    "import json"
   ]
  },
  {
   "cell_type": "code",
   "execution_count": 11,
   "metadata": {},
   "outputs": [
    {
     "name": "stderr",
     "output_type": "stream",
     "text": [
      "2023-08-06 20:15:03,675 INFO numerapi.utils: starting download\n",
      "/Users/augustincablant/Desktop/NUMERAI/train.parquet: 1.45GB [04:20, 5.57MB/s]                            \n",
      "2023-08-06 20:19:25,926 INFO numerapi.utils: starting download\n",
      "/Users/augustincablant/Desktop/NUMERAI/validation.parquet: 1.60GB [04:41, 5.68MB/s]                            \n",
      "2023-08-06 20:24:09,463 INFO numerapi.utils: starting download\n",
      "/Users/augustincablant/Desktop/NUMERAI/live.parquet: 4.47MB [00:01, 2.67MB/s]                            \n",
      "2023-08-06 20:24:12,660 INFO numerapi.utils: starting download\n",
      "/Users/augustincablant/Desktop/NUMERAI/features.json: 703kB [00:00, 817kB/s]                            \n"
     ]
    },
    {
     "data": {
      "text/plain": [
       "'/Users/augustincablant/Desktop/NUMERAI/features.json'"
      ]
     },
     "execution_count": 11,
     "metadata": {},
     "output_type": "execute_result"
    }
   ],
   "source": [
    "napi = NumerAPI()\n",
    "current_round = napi.get_current_round()\n",
    "napi.download_dataset(\"v4.1/train.parquet\", \"/Users/augustincablant/Desktop/NUMERAI/train.parquet\") \n",
    "napi.download_dataset(\"v4.1/validation.parquet\", \"/Users/augustincablant/Desktop/NUMERAI/validation.parquet\")\n",
    "napi.download_dataset(\"v4.1/live.parquet\", \"/Users/augustincablant/Desktop/NUMERAI/live.parquet\")\n",
    "napi.download_dataset(\"v4.1/features.json\", \"/Users/augustincablant/Desktop/NUMERAI/features.json\")"
   ]
  },
  {
   "cell_type": "code",
   "execution_count": 2,
   "metadata": {},
   "outputs": [],
   "source": [
    "train_set = pd.read_parquet(\"/Users/augustincablant/Desktop/NUMERAI/train.parquet\")"
   ]
  },
  {
   "cell_type": "code",
   "execution_count": 18,
   "metadata": {},
   "outputs": [
    {
     "name": "stdout",
     "output_type": "stream",
     "text": [
      "Shape of train_set is : (2420521, 1625)\n",
      "Columns are : Index(['era', 'data_type', 'feature_honoured_observational_balaamite',\n",
      "       'feature_polaroid_vadose_quinze', 'feature_untidy_withdrawn_bargeman',\n",
      "       'feature_genuine_kyphotic_trehala',\n",
      "       'feature_unenthralled_sportful_schoolhouse',\n",
      "       'feature_divulsive_explanatory_ideologue',\n",
      "       'feature_ichthyotic_roofed_yeshiva',\n",
      "       'feature_waggly_outlandish_carbonisation',\n",
      "       ...\n",
      "       'target_thomas_v4_20', 'target_thomas_v4_60', 'target_cyrus_v4_20',\n",
      "       'target_cyrus_v4_60', 'target_caroline_v4_20', 'target_caroline_v4_60',\n",
      "       'target_sam_v4_20', 'target_sam_v4_60', 'target_xerxes_v4_20',\n",
      "       'target_xerxes_v4_60'],\n",
      "      dtype='object', length=1625)\n"
     ]
    }
   ],
   "source": [
    "print(\"Shape of train_set is :\", train_set.shape)\n",
    "print(\"Columns are :\", train_set.columns)"
   ]
  },
  {
   "cell_type": "code",
   "execution_count": 12,
   "metadata": {},
   "outputs": [
    {
     "data": {
      "text/plain": [
       "641"
      ]
     },
     "execution_count": 12,
     "metadata": {},
     "output_type": "execute_result"
    }
   ],
   "source": [
    "with open('/Users/augustincablant/Desktop/NUMERAI/features.json', 'r') as json_file:\n",
    "    data = json.load(json_file)\n",
    "\n",
    "\n",
    "with open(\"/Users/augustincablant/Desktop/NUMERAI/features.json\", \"r\") as f:\n",
    "    feature_metadata = json.load(f)\n",
    "# features = list(feature_metadata[\"feature_stats\"].keys()) # get all the features\n",
    "# features = feature_metadata[\"feature_sets\"][\"small\"] # get the small feature set\n",
    "features = feature_metadata[\"feature_sets\"][\"medium\"] # get the medium feature set\n",
    "# read in just those features along with era and target columns\n",
    "col_target = []\n",
    "for name in list(train_set.columns): \n",
    "    if name[0:6]=='target':\n",
    "        col_target.append(name)\n",
    "\n",
    "read_columns = features + ['era', 'data_type'] + col_target\n",
    "\n",
    "len(features)"
   ]
  },
  {
   "cell_type": "code",
   "execution_count": 34,
   "metadata": {},
   "outputs": [],
   "source": [
    "# Metric evaluation \n",
    "\n",
    "# The models should be scored based on the rank-correlation (spearman) with the target\n",
    "def numerai_score(y_true, y_pred):\n",
    "    rank_pred = y_pred.groupby(eras).apply(lambda x: x.rank(pct=True, method=\"first\"))\n",
    "    return np.corrcoef(y_true, rank_pred)[0,1]\n",
    "\n",
    "# It can also be convenient while working to evaluate based on the regular (pearson) correlation\n",
    "def correlation_score(y_true, y_pred):\n",
    "    return np.corrcoef(y_true, y_pred)[0,1]"
   ]
  },
  {
   "cell_type": "code",
   "execution_count": 13,
   "metadata": {},
   "outputs": [
    {
     "ename": "",
     "evalue": "",
     "output_type": "error",
     "traceback": [
      "\u001b[1;31mImpossible d’exécuter le code ; la session a été supprimée. Essayez de redémarrer le noyau."
     ]
    },
    {
     "ename": "",
     "evalue": "",
     "output_type": "error",
     "traceback": [
      "\u001b[1;31mLe Kernel s’est bloqué lors de l’exécution du code dans la cellule active ou une cellule précédente. Veuillez vérifier le code dans la ou les cellules pour identifier une cause possible de l’échec. Cliquez <a href='https://aka.ms/vscodeJupyterKernelCrash'>ici</a> pour plus d’informations. Pour plus d’informations, consultez Jupyter <a href='command:jupyter.viewOutput'>log</a>."
     ]
    }
   ],
   "source": [
    "all_feature_corrs = train_set.groupby('era').apply(\n",
    "    lambda era: era[features].corrwith(era['target']))"
   ]
  },
  {
   "cell_type": "code",
   "execution_count": 10,
   "metadata": {},
   "outputs": [
    {
     "data": {
      "text/plain": [
       "['target',\n",
       " 'target_nomi_v4_20',\n",
       " 'target_nomi_v4_60',\n",
       " 'target_tyler_v4_20',\n",
       " 'target_tyler_v4_60',\n",
       " 'target_victor_v4_20',\n",
       " 'target_victor_v4_60',\n",
       " 'target_ralph_v4_20',\n",
       " 'target_ralph_v4_60',\n",
       " 'target_waldo_v4_20',\n",
       " 'target_waldo_v4_60',\n",
       " 'target_jerome_v4_20',\n",
       " 'target_jerome_v4_60',\n",
       " 'target_janet_v4_20',\n",
       " 'target_janet_v4_60',\n",
       " 'target_ben_v4_20',\n",
       " 'target_ben_v4_60',\n",
       " 'target_alan_v4_20',\n",
       " 'target_alan_v4_60',\n",
       " 'target_paul_v4_20',\n",
       " 'target_paul_v4_60',\n",
       " 'target_george_v4_20',\n",
       " 'target_george_v4_60',\n",
       " 'target_william_v4_20',\n",
       " 'target_william_v4_60',\n",
       " 'target_arthur_v4_20',\n",
       " 'target_arthur_v4_60',\n",
       " 'target_thomas_v4_20',\n",
       " 'target_thomas_v4_60',\n",
       " 'target_cyrus_v4_20',\n",
       " 'target_cyrus_v4_60',\n",
       " 'target_caroline_v4_20',\n",
       " 'target_caroline_v4_60',\n",
       " 'target_sam_v4_20',\n",
       " 'target_sam_v4_60',\n",
       " 'target_xerxes_v4_20',\n",
       " 'target_xerxes_v4_60']"
      ]
     },
     "execution_count": 10,
     "metadata": {},
     "output_type": "execute_result"
    }
   ],
   "source": [
    "riskiest_features = get_biggest_change_features(all_feature_corrs, 50)"
   ]
  },
  {
   "cell_type": "code",
   "execution_count": null,
   "metadata": {},
   "outputs": [],
   "source": []
  }
 ],
 "metadata": {
  "kernelspec": {
   "display_name": "base",
   "language": "python",
   "name": "python3"
  },
  "language_info": {
   "codemirror_mode": {
    "name": "ipython",
    "version": 3
   },
   "file_extension": ".py",
   "mimetype": "text/x-python",
   "name": "python",
   "nbconvert_exporter": "python",
   "pygments_lexer": "ipython3",
   "version": "3.9.12"
  },
  "orig_nbformat": 4
 },
 "nbformat": 4,
 "nbformat_minor": 2
}
