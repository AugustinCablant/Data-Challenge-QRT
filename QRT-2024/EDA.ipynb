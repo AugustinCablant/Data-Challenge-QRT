{
 "cells": [
  {
   "cell_type": "code",
   "execution_count": 108,
   "metadata": {},
   "outputs": [],
   "source": [
    "import numpy as np \n",
    "import pandas as pd \n",
    "import matplotlib.pyplot as plt\n",
    "import seaborn as sns\n",
    "import os \n",
    "from tqdm import tqdm\n",
    "from sklearn.ensemble import RandomForestClassifier\n",
    "from sklearn.model_selection import train_test_split, GridSearchCV\n",
    "from sklearn.metrics import accuracy_score\n",
    "#pd.set_option('display.max_columns', None)"
   ]
  },
  {
   "cell_type": "markdown",
   "metadata": {},
   "source": [
    "Dans le cadre du data challenge QRT de cette année, nous vous proposons un challenge de prédiction de résultat de match. Vous recevrez des données historiques réelles au niveau des équipes et des joueurs, et vous devrez prédire quelle équipe gagne ou s'il y a un match nul.\n",
    "\n",
    "Le score cible est l’accuracy de la prédiction pour les trois classes [HOME_WINS, DRAW, AWAY_WINS], Il existe donc pour un match trois outputs possibles, [1,0,0]. [0,1,0] et [0,0,1]."
   ]
  },
  {
   "cell_type": "code",
   "execution_count": 114,
   "metadata": {},
   "outputs": [
    {
     "name": "stdout",
     "output_type": "stream",
     "text": [
      "/Users/augustincablant/Desktop/QRT/train/train_away_player_statistics_df.csv\n",
      "/Users/augustincablant/Desktop/QRT/train/train_home_player_statistics_df.csv\n",
      "/Users/augustincablant/Desktop/QRT/train/train_away_team_statistics_df.csv\n",
      "/Users/augustincablant/Desktop/QRT/train/Y_train.csv\n",
      "/Users/augustincablant/Desktop/QRT/train/train_home_team_statistics_df.csv\n",
      "/Users/augustincablant/Desktop/QRT/test/test_away_team_statistics_df.csv\n",
      "/Users/augustincablant/Desktop/QRT/test/test_home_player_statistics_df.csv\n",
      "/Users/augustincablant/Desktop/QRT/test/test_home_team_statistics_df.csv\n",
      "/Users/augustincablant/Desktop/QRT/test/test_away_player_statistics_df.csv\n"
     ]
    }
   ],
   "source": [
    "lien = '/Users/augustincablant/Desktop/QRT/train'\n",
    "liste_df = []\n",
    "for dirname, _, filenames in os.walk(lien):\n",
    "    for filename in filenames:\n",
    "        print(os.path.join(dirname, filename))\n",
    "        liste_df.append(pd.read_csv(lien + '/' + filename))\n",
    "\n",
    "player_away, player_home, team_away, team_home, y_train = liste_df[0], liste_df[1], liste_df[2], liste_df[4], liste_df[3]\n",
    "\n",
    "for col in player_away.columns:\n",
    "    if col not in player_home.columns:\n",
    "        print(col)\n",
    "\n",
    "for col in team_away.columns:\n",
    "    if col not in team_home.columns:\n",
    "        print(col)\n",
    "\n",
    "#Ces deux datasets ont les mêmes colonnes. On créer donc la colonne home qui vaut True ou False et on agrège les deux datasets !\n",
    "\n",
    "player_away['HOME'], player_home['HOME'] = False, True\n",
    "df_player = pd.concat([player_home, player_away], ignore_index=True).sample(frac=1).reset_index(drop=True)\n",
    "\n",
    "team_away['HOME'], team_home['HOME'] = False, True\n",
    "df_team = pd.concat([team_away, team_home], ignore_index=True).sample(frac=1).reset_index(drop=True)\n",
    "\n",
    "\n",
    "##test \n",
    "\n",
    "lien = '/Users/augustincablant/Desktop/QRT/test'\n",
    "liste_df = []\n",
    "for dirname, _, filenames in os.walk(lien):\n",
    "    for filename in filenames:\n",
    "        print(os.path.join(dirname, filename))\n",
    "        liste_df.append(pd.read_csv(lien + '/' + filename))\n",
    "\n",
    "team_away, player_home, team_home, player_away = liste_df[0], liste_df[1], liste_df[2], liste_df[3]\n",
    "\n",
    "player_away['HOME'], player_home['HOME'] = False, True\n",
    "df_player_test = pd.concat([player_home, player_away], ignore_index=True).sample(frac=1).reset_index(drop=True)\n",
    "\n",
    "team_away['HOME'], team_home['HOME'] = False, True\n",
    "df_team_test = pd.concat([team_away, team_home], ignore_index=True).sample(frac=1).reset_index(drop=True)"
   ]
  },
  {
   "cell_type": "markdown",
   "metadata": {},
   "source": [
    "## Idée numéro 1 \n",
    "\n",
    "On construit un dataset sur le dataset df_team. \n",
    "Pour évalue le niveau de chaque joueur de chaque team grâce à une métrique que l'on construit, puis on fait une moyenne sur l'ensemble des joueurs de l'équipe.\n",
    "\n",
    "Attention, dans le dataset test nous n'avons pas accès au nom des équipes. "
   ]
  },
  {
   "cell_type": "code",
   "execution_count": 115,
   "metadata": {},
   "outputs": [
    {
     "name": "stderr",
     "output_type": "stream",
     "text": [
      "100%|██████████| 12303/12303 [00:45<00:00, 268.69it/s]\n"
     ]
    },
    {
     "data": {
      "text/plain": [
       "\" \\nIDS_test = df_team_test['ID'].unique()\\ndf_team_metric_test = df_team_test.copy()\\ndf_team_metric_test['PLAYER_METRIC'] = np.nan\\n\\nfor id in tqdm(IDS_test):\\n    sub_true, sub_false = df_player_test[(df_player_test['ID']==id) & (df_player_test['HOME']==True)], df_player_test[(df_player_test['ID']==id) & (df_player_test['HOME']==False)]\\n    sub_numeric_true,  sub_numeric_false = sub_true.drop(columns=['POSITION', 'ID', 'HOME']), sub_false.drop(columns=['POSITION', 'ID', 'HOME'])\\n    mean_true, mean_false = sub_numeric_true.mean(axis=1, skipna=True).mean(), sub_numeric_false.mean(axis=1, skipna=True).mean()\\n    df_team_metric_test.loc[(df_team_metric_test['ID'] == id) & (df_team_metric_test['HOME'] == True), 'PLAYER_METRIC'] = mean_true\\n    df_team_metric_test.loc[(df_team_metric_test['ID'] == id) & (df_team_metric_test['HOME'] == False), 'PLAYER_METRIC'] = mean_false\\n\""
      ]
     },
     "execution_count": 115,
     "metadata": {},
     "output_type": "execute_result"
    }
   ],
   "source": [
    "# Le but de cette cellule de code est de : \n",
    "# Construire une métrique basée sur les joueurs du match (attention bien prendre en compte away et home)\n",
    "# Ajouter cette valeur dans le dataset df_team\n",
    "# Faire de même pour le dataset test\n",
    "\n",
    "#TRAIN\n",
    "IDS = df_team['ID'].unique()\n",
    "df_team_metric = df_team.copy()\n",
    "df_team_metric['PLAYER_METRIC'] = np.nan\n",
    "\n",
    "for id in tqdm(IDS):\n",
    "    sub_true, sub_false = df_player[(df_player['ID']==id) & (df_player['HOME']==True)], df_player[(df_player['ID']==id) & (df_player['HOME']==False)]\n",
    "    sub_numeric_true,  sub_numeric_false = sub_true.drop(columns=['LEAGUE', 'TEAM_NAME', 'POSITION', 'ID', 'PLAYER_NAME', 'HOME']), sub_false.drop(columns=['LEAGUE', 'TEAM_NAME', 'POSITION', 'ID', 'PLAYER_NAME', 'HOME'])\n",
    "    mean_true, mean_false = sub_numeric_true.mean(axis=1, skipna=True).mean(), sub_numeric_false.mean(axis=1, skipna=True).mean()\n",
    "    df_team_metric.loc[(df_team_metric['ID'] == id) & (df_team_metric['HOME'] == True), 'PLAYER_METRIC'] = mean_true\n",
    "    df_team_metric.loc[(df_team_metric['ID'] == id) & (df_team_metric['HOME'] == False), 'PLAYER_METRIC'] = mean_false\n"
   ]
  },
  {
   "cell_type": "code",
   "execution_count": 120,
   "metadata": {},
   "outputs": [
    {
     "name": "stderr",
     "output_type": "stream",
     "text": [
      "100%|██████████| 25368/25368 [04:19<00:00, 97.58it/s] \n"
     ]
    }
   ],
   "source": [
    "#TEST (très long)\n",
    "IDS_test = df_team_test['ID'].unique()\n",
    "df_team_metric_test = df_team_test.copy()\n",
    "df_team_metric_test['PLAYER_METRIC'] = np.nan\n",
    "\n",
    "for id in tqdm(IDS_test):\n",
    "    sub_true, sub_false = df_player_test[(df_player_test['ID']==id) & (df_player_test['HOME']==True)], df_player_test[(df_player_test['ID']==id) & (df_player_test['HOME']==False)]\n",
    "    sub_numeric_true,  sub_numeric_false = sub_true.drop(columns=['POSITION', 'ID', 'HOME']), sub_false.drop(columns=['POSITION', 'ID', 'HOME'])\n",
    "    mean_true, mean_false = sub_numeric_true.mean(axis=1, skipna=True).mean(), sub_numeric_false.mean(axis=1, skipna=True).mean()\n",
    "    df_team_metric_test.loc[(df_team_metric_test['ID'] == id) & (df_team_metric_test['HOME'] == True), 'PLAYER_METRIC'] = mean_true\n",
    "    df_team_metric_test.loc[(df_team_metric_test['ID'] == id) & (df_team_metric_test['HOME'] == False), 'PLAYER_METRIC'] = mean_false"
   ]
  },
  {
   "cell_type": "code",
   "execution_count": 117,
   "metadata": {},
   "outputs": [],
   "source": [
    "df_train = pd.merge(df_team_metric, y_train, on = 'ID', how = 'left').fillna(0)\n",
    "df_train['TARGET'] = df_train['HOME_WINS'] - df_train['AWAY_WINS'] \n",
    "df_train['HOME'] = df_train['HOME'].astype(float)\n",
    "X, y = df_train.drop(columns=['LEAGUE', 'TEAM_NAME', 'ID', 'HOME_WINS', 'DRAW', 'AWAY_WINS', 'TARGET']).copy(), df_train['TARGET']"
   ]
  },
  {
   "cell_type": "code",
   "execution_count": 119,
   "metadata": {},
   "outputs": [
    {
     "name": "stdout",
     "output_type": "stream",
     "text": [
      "Fitting 5 folds for each of 27 candidates, totalling 135 fits\n",
      "[CV] END bootstrap=False, max_depth=40, min_samples_leaf=10, min_samples_split=30, n_estimators=200; total time=  16.2s\n",
      "[CV] END bootstrap=False, max_depth=40, min_samples_leaf=10, min_samples_split=30, n_estimators=200; total time=  16.5s\n",
      "[CV] END bootstrap=False, max_depth=40, min_samples_leaf=10, min_samples_split=30, n_estimators=200; total time=  16.8s\n",
      "[CV] END bootstrap=False, max_depth=40, min_samples_leaf=10, min_samples_split=20, n_estimators=200; total time=  16.9s\n",
      "[CV] END bootstrap=False, max_depth=40, min_samples_leaf=10, min_samples_split=20, n_estimators=200; total time=  16.9s\n",
      "[CV] END bootstrap=False, max_depth=40, min_samples_leaf=10, min_samples_split=20, n_estimators=200; total time=  17.0s\n",
      "[CV] END bootstrap=False, max_depth=40, min_samples_leaf=10, min_samples_split=20, n_estimators=200; total time=  17.3s\n",
      "[CV] END bootstrap=False, max_depth=40, min_samples_leaf=10, min_samples_split=20, n_estimators=200; total time=  17.5s\n",
      "[CV] END bootstrap=False, max_depth=40, min_samples_leaf=10, min_samples_split=40, n_estimators=200; total time=  15.1s\n",
      "[CV] END bootstrap=False, max_depth=40, min_samples_leaf=10, min_samples_split=30, n_estimators=200; total time=  16.0s\n",
      "[CV] END bootstrap=False, max_depth=40, min_samples_leaf=10, min_samples_split=40, n_estimators=200; total time=  15.3s\n",
      "[CV] END bootstrap=False, max_depth=40, min_samples_leaf=10, min_samples_split=40, n_estimators=200; total time=  15.2s\n",
      "[CV] END bootstrap=False, max_depth=40, min_samples_leaf=10, min_samples_split=40, n_estimators=200; total time=  14.9s\n",
      "[CV] END bootstrap=False, max_depth=40, min_samples_leaf=10, min_samples_split=30, n_estimators=200; total time=  15.8s\n",
      "[CV] END bootstrap=False, max_depth=40, min_samples_leaf=10, min_samples_split=40, n_estimators=200; total time=  15.5s\n",
      "[CV] END bootstrap=False, max_depth=40, min_samples_leaf=15, min_samples_split=20, n_estimators=200; total time=  15.3s\n",
      "[CV] END bootstrap=False, max_depth=40, min_samples_leaf=15, min_samples_split=20, n_estimators=200; total time=  14.4s\n",
      "[CV] END bootstrap=False, max_depth=40, min_samples_leaf=15, min_samples_split=30, n_estimators=200; total time=  14.5s\n",
      "[CV] END bootstrap=False, max_depth=40, min_samples_leaf=15, min_samples_split=20, n_estimators=200; total time=  14.7s\n",
      "[CV] END bootstrap=False, max_depth=40, min_samples_leaf=15, min_samples_split=30, n_estimators=200; total time=  14.3s\n",
      "[CV] END bootstrap=False, max_depth=40, min_samples_leaf=15, min_samples_split=20, n_estimators=200; total time=  14.9s\n",
      "[CV] END bootstrap=False, max_depth=40, min_samples_leaf=15, min_samples_split=20, n_estimators=200; total time=  14.9s\n",
      "[CV] END bootstrap=False, max_depth=40, min_samples_leaf=15, min_samples_split=30, n_estimators=200; total time=  15.0s\n",
      "[CV] END bootstrap=False, max_depth=40, min_samples_leaf=15, min_samples_split=30, n_estimators=200; total time=  14.9s\n",
      "[CV] END bootstrap=False, max_depth=40, min_samples_leaf=15, min_samples_split=40, n_estimators=200; total time=  14.5s\n",
      "[CV] END bootstrap=False, max_depth=40, min_samples_leaf=15, min_samples_split=30, n_estimators=200; total time=  15.2s\n",
      "[CV] END bootstrap=False, max_depth=40, min_samples_leaf=20, min_samples_split=20, n_estimators=200; total time=  14.3s\n",
      "[CV] END bootstrap=False, max_depth=40, min_samples_leaf=20, min_samples_split=20, n_estimators=200; total time=  14.4s\n",
      "[CV] END bootstrap=False, max_depth=40, min_samples_leaf=15, min_samples_split=40, n_estimators=200; total time=  14.9s\n",
      "[CV] END bootstrap=False, max_depth=40, min_samples_leaf=15, min_samples_split=40, n_estimators=200; total time=  14.6s\n",
      "[CV] END bootstrap=False, max_depth=40, min_samples_leaf=15, min_samples_split=40, n_estimators=200; total time=  14.9s\n",
      "[CV] END bootstrap=False, max_depth=40, min_samples_leaf=15, min_samples_split=40, n_estimators=200; total time=  14.9s\n",
      "[CV] END bootstrap=False, max_depth=40, min_samples_leaf=20, min_samples_split=20, n_estimators=200; total time=  15.0s\n",
      "[CV] END bootstrap=False, max_depth=40, min_samples_leaf=20, min_samples_split=20, n_estimators=200; total time=  15.0s\n",
      "[CV] END bootstrap=False, max_depth=40, min_samples_leaf=20, min_samples_split=30, n_estimators=200; total time=  15.0s\n",
      "[CV] END bootstrap=False, max_depth=40, min_samples_leaf=20, min_samples_split=20, n_estimators=200; total time=  15.5s\n",
      "[CV] END bootstrap=False, max_depth=40, min_samples_leaf=20, min_samples_split=30, n_estimators=200; total time=  15.0s\n",
      "[CV] END bootstrap=False, max_depth=40, min_samples_leaf=20, min_samples_split=30, n_estimators=200; total time=  15.1s\n",
      "[CV] END bootstrap=False, max_depth=40, min_samples_leaf=20, min_samples_split=30, n_estimators=200; total time=  15.4s\n",
      "[CV] END bootstrap=False, max_depth=40, min_samples_leaf=20, min_samples_split=30, n_estimators=200; total time=  15.5s\n",
      "[CV] END bootstrap=False, max_depth=40, min_samples_leaf=20, min_samples_split=40, n_estimators=200; total time=  15.4s\n",
      "[CV] END bootstrap=False, max_depth=40, min_samples_leaf=20, min_samples_split=40, n_estimators=200; total time=  15.2s\n",
      "[CV] END bootstrap=False, max_depth=40, min_samples_leaf=20, min_samples_split=40, n_estimators=200; total time=  15.6s\n",
      "[CV] END bootstrap=False, max_depth=40, min_samples_leaf=20, min_samples_split=40, n_estimators=200; total time=  15.3s\n",
      "[CV] END bootstrap=False, max_depth=40, min_samples_leaf=20, min_samples_split=40, n_estimators=200; total time=  15.6s\n",
      "[CV] END bootstrap=False, max_depth=50, min_samples_leaf=10, min_samples_split=20, n_estimators=200; total time=  17.6s\n",
      "[CV] END bootstrap=False, max_depth=50, min_samples_leaf=10, min_samples_split=20, n_estimators=200; total time=  17.9s\n",
      "[CV] END bootstrap=False, max_depth=50, min_samples_leaf=10, min_samples_split=20, n_estimators=200; total time=  17.9s\n",
      "[CV] END bootstrap=False, max_depth=50, min_samples_leaf=10, min_samples_split=30, n_estimators=200; total time=  17.3s\n",
      "[CV] END bootstrap=False, max_depth=50, min_samples_leaf=10, min_samples_split=30, n_estimators=200; total time=  17.5s\n",
      "[CV] END bootstrap=False, max_depth=50, min_samples_leaf=10, min_samples_split=30, n_estimators=200; total time=  17.6s\n",
      "[CV] END bootstrap=False, max_depth=50, min_samples_leaf=10, min_samples_split=20, n_estimators=200; total time=  18.2s\n",
      "[CV] END bootstrap=False, max_depth=50, min_samples_leaf=10, min_samples_split=20, n_estimators=200; total time=  18.2s\n",
      "[CV] END bootstrap=False, max_depth=50, min_samples_leaf=10, min_samples_split=30, n_estimators=200; total time=  17.2s\n",
      "[CV] END bootstrap=False, max_depth=50, min_samples_leaf=10, min_samples_split=40, n_estimators=200; total time=  17.0s\n",
      "[CV] END bootstrap=False, max_depth=50, min_samples_leaf=10, min_samples_split=30, n_estimators=200; total time=  17.2s\n",
      "[CV] END bootstrap=False, max_depth=50, min_samples_leaf=10, min_samples_split=40, n_estimators=200; total time=  17.0s\n",
      "[CV] END bootstrap=False, max_depth=50, min_samples_leaf=10, min_samples_split=40, n_estimators=200; total time=  17.1s\n",
      "[CV] END bootstrap=False, max_depth=50, min_samples_leaf=10, min_samples_split=40, n_estimators=200; total time=  16.6s\n",
      "[CV] END bootstrap=False, max_depth=50, min_samples_leaf=10, min_samples_split=40, n_estimators=200; total time=  17.5s\n",
      "[CV] END bootstrap=False, max_depth=50, min_samples_leaf=15, min_samples_split=20, n_estimators=200; total time=  17.2s\n",
      "[CV] END bootstrap=False, max_depth=50, min_samples_leaf=15, min_samples_split=20, n_estimators=200; total time=  17.0s\n",
      "[CV] END bootstrap=False, max_depth=50, min_samples_leaf=15, min_samples_split=20, n_estimators=200; total time=  17.3s\n",
      "[CV] END bootstrap=False, max_depth=50, min_samples_leaf=15, min_samples_split=20, n_estimators=200; total time=  17.7s\n",
      "[CV] END bootstrap=False, max_depth=50, min_samples_leaf=15, min_samples_split=30, n_estimators=200; total time=  17.5s\n",
      "[CV] END bootstrap=False, max_depth=50, min_samples_leaf=15, min_samples_split=20, n_estimators=200; total time=  17.8s\n",
      "[CV] END bootstrap=False, max_depth=50, min_samples_leaf=15, min_samples_split=30, n_estimators=200; total time=  17.9s\n",
      "[CV] END bootstrap=False, max_depth=50, min_samples_leaf=15, min_samples_split=30, n_estimators=200; total time=  17.6s\n",
      "[CV] END bootstrap=False, max_depth=50, min_samples_leaf=15, min_samples_split=30, n_estimators=200; total time=  17.9s\n",
      "[CV] END bootstrap=False, max_depth=50, min_samples_leaf=15, min_samples_split=30, n_estimators=200; total time=  17.7s\n",
      "[CV] END bootstrap=False, max_depth=50, min_samples_leaf=15, min_samples_split=40, n_estimators=200; total time=  17.3s\n",
      "[CV] END bootstrap=False, max_depth=50, min_samples_leaf=15, min_samples_split=40, n_estimators=200; total time=  17.3s\n",
      "[CV] END bootstrap=False, max_depth=50, min_samples_leaf=15, min_samples_split=40, n_estimators=200; total time=  18.4s\n",
      "[CV] END bootstrap=False, max_depth=50, min_samples_leaf=20, min_samples_split=20, n_estimators=200; total time=  17.7s\n",
      "[CV] END bootstrap=False, max_depth=50, min_samples_leaf=15, min_samples_split=40, n_estimators=200; total time=  18.2s\n",
      "[CV] END bootstrap=False, max_depth=50, min_samples_leaf=15, min_samples_split=40, n_estimators=200; total time=  18.6s\n",
      "[CV] END bootstrap=False, max_depth=50, min_samples_leaf=20, min_samples_split=20, n_estimators=200; total time=  18.2s\n",
      "[CV] END bootstrap=False, max_depth=50, min_samples_leaf=20, min_samples_split=20, n_estimators=200; total time=  17.7s\n",
      "[CV] END bootstrap=False, max_depth=50, min_samples_leaf=20, min_samples_split=20, n_estimators=200; total time=  18.2s\n",
      "[CV] END bootstrap=False, max_depth=50, min_samples_leaf=20, min_samples_split=20, n_estimators=200; total time=  17.9s\n",
      "[CV] END bootstrap=False, max_depth=50, min_samples_leaf=20, min_samples_split=30, n_estimators=200; total time=  17.7s\n",
      "[CV] END bootstrap=False, max_depth=50, min_samples_leaf=20, min_samples_split=30, n_estimators=200; total time=  18.0s\n",
      "[CV] END bootstrap=False, max_depth=50, min_samples_leaf=20, min_samples_split=30, n_estimators=200; total time=  18.3s\n",
      "[CV] END bootstrap=False, max_depth=50, min_samples_leaf=20, min_samples_split=30, n_estimators=200; total time=  17.9s\n",
      "[CV] END bootstrap=False, max_depth=50, min_samples_leaf=20, min_samples_split=30, n_estimators=200; total time=  18.3s\n",
      "[CV] END bootstrap=False, max_depth=50, min_samples_leaf=20, min_samples_split=40, n_estimators=200; total time=  18.4s\n",
      "[CV] END bootstrap=False, max_depth=50, min_samples_leaf=20, min_samples_split=40, n_estimators=200; total time=  19.0s\n",
      "[CV] END bootstrap=False, max_depth=50, min_samples_leaf=20, min_samples_split=40, n_estimators=200; total time=  18.6s\n",
      "[CV] END bootstrap=False, max_depth=50, min_samples_leaf=20, min_samples_split=40, n_estimators=200; total time=  18.4s\n",
      "[CV] END bootstrap=False, max_depth=50, min_samples_leaf=20, min_samples_split=40, n_estimators=200; total time=  18.1s\n",
      "[CV] END bootstrap=False, max_depth=60, min_samples_leaf=10, min_samples_split=20, n_estimators=200; total time=  21.2s\n",
      "[CV] END bootstrap=False, max_depth=60, min_samples_leaf=10, min_samples_split=20, n_estimators=200; total time=  21.6s\n",
      "[CV] END bootstrap=False, max_depth=60, min_samples_leaf=10, min_samples_split=20, n_estimators=200; total time=  21.9s\n",
      "[CV] END bootstrap=False, max_depth=60, min_samples_leaf=10, min_samples_split=30, n_estimators=200; total time=  20.2s\n",
      "[CV] END bootstrap=False, max_depth=60, min_samples_leaf=10, min_samples_split=20, n_estimators=200; total time=  20.9s\n",
      "[CV] END bootstrap=False, max_depth=60, min_samples_leaf=10, min_samples_split=20, n_estimators=200; total time=  20.6s\n",
      "[CV] END bootstrap=False, max_depth=60, min_samples_leaf=10, min_samples_split=30, n_estimators=200; total time=  19.8s\n",
      "[CV] END bootstrap=False, max_depth=60, min_samples_leaf=10, min_samples_split=30, n_estimators=200; total time=  20.2s\n",
      "[CV] END bootstrap=False, max_depth=60, min_samples_leaf=10, min_samples_split=30, n_estimators=200; total time=  19.5s\n",
      "[CV] END bootstrap=False, max_depth=60, min_samples_leaf=10, min_samples_split=40, n_estimators=200; total time=  19.3s\n",
      "[CV] END bootstrap=False, max_depth=60, min_samples_leaf=10, min_samples_split=30, n_estimators=200; total time=  19.9s\n",
      "[CV] END bootstrap=False, max_depth=60, min_samples_leaf=10, min_samples_split=40, n_estimators=200; total time=  18.9s\n",
      "[CV] END bootstrap=False, max_depth=60, min_samples_leaf=10, min_samples_split=40, n_estimators=200; total time=  18.8s\n",
      "[CV] END bootstrap=False, max_depth=60, min_samples_leaf=10, min_samples_split=40, n_estimators=200; total time=  19.1s\n",
      "[CV] END bootstrap=False, max_depth=60, min_samples_leaf=10, min_samples_split=40, n_estimators=200; total time=  18.9s\n",
      "[CV] END bootstrap=False, max_depth=60, min_samples_leaf=15, min_samples_split=20, n_estimators=200; total time=  19.4s\n",
      "[CV] END bootstrap=False, max_depth=60, min_samples_leaf=15, min_samples_split=20, n_estimators=200; total time=  18.6s\n",
      "[CV] END bootstrap=False, max_depth=60, min_samples_leaf=15, min_samples_split=20, n_estimators=200; total time=  18.7s\n",
      "[CV] END bootstrap=False, max_depth=60, min_samples_leaf=15, min_samples_split=20, n_estimators=200; total time=  18.9s\n",
      "[CV] END bootstrap=False, max_depth=60, min_samples_leaf=15, min_samples_split=20, n_estimators=200; total time=  19.2s\n",
      "[CV] END bootstrap=False, max_depth=60, min_samples_leaf=15, min_samples_split=30, n_estimators=200; total time=  18.7s\n",
      "[CV] END bootstrap=False, max_depth=60, min_samples_leaf=15, min_samples_split=30, n_estimators=200; total time=  19.3s\n",
      "[CV] END bootstrap=False, max_depth=60, min_samples_leaf=15, min_samples_split=30, n_estimators=200; total time=  18.2s\n",
      "[CV] END bootstrap=False, max_depth=60, min_samples_leaf=15, min_samples_split=30, n_estimators=200; total time=  17.9s\n",
      "[CV] END bootstrap=False, max_depth=60, min_samples_leaf=15, min_samples_split=30, n_estimators=200; total time=  17.9s\n",
      "[CV] END bootstrap=False, max_depth=60, min_samples_leaf=15, min_samples_split=40, n_estimators=200; total time=  16.9s\n",
      "[CV] END bootstrap=False, max_depth=60, min_samples_leaf=15, min_samples_split=40, n_estimators=200; total time=  17.2s\n",
      "[CV] END bootstrap=False, max_depth=60, min_samples_leaf=15, min_samples_split=40, n_estimators=200; total time=  17.4s\n",
      "[CV] END bootstrap=False, max_depth=60, min_samples_leaf=15, min_samples_split=40, n_estimators=200; total time=  17.4s\n",
      "[CV] END bootstrap=False, max_depth=60, min_samples_leaf=15, min_samples_split=40, n_estimators=200; total time=  17.0s\n",
      "[CV] END bootstrap=False, max_depth=60, min_samples_leaf=20, min_samples_split=20, n_estimators=200; total time=  16.5s\n",
      "[CV] END bootstrap=False, max_depth=60, min_samples_leaf=20, min_samples_split=20, n_estimators=200; total time=  16.4s\n",
      "[CV] END bootstrap=False, max_depth=60, min_samples_leaf=20, min_samples_split=20, n_estimators=200; total time=  17.0s\n",
      "[CV] END bootstrap=False, max_depth=60, min_samples_leaf=20, min_samples_split=20, n_estimators=200; total time=  16.5s\n",
      "[CV] END bootstrap=False, max_depth=60, min_samples_leaf=20, min_samples_split=20, n_estimators=200; total time=  16.5s\n",
      "[CV] END bootstrap=False, max_depth=60, min_samples_leaf=20, min_samples_split=30, n_estimators=200; total time=  16.7s\n",
      "[CV] END bootstrap=False, max_depth=60, min_samples_leaf=20, min_samples_split=30, n_estimators=200; total time=  16.6s\n",
      "[CV] END bootstrap=False, max_depth=60, min_samples_leaf=20, min_samples_split=30, n_estimators=200; total time=  16.7s\n",
      "[CV] END bootstrap=False, max_depth=60, min_samples_leaf=20, min_samples_split=30, n_estimators=200; total time=  15.7s\n",
      "[CV] END bootstrap=False, max_depth=60, min_samples_leaf=20, min_samples_split=30, n_estimators=200; total time=  15.5s\n",
      "[CV] END bootstrap=False, max_depth=60, min_samples_leaf=20, min_samples_split=40, n_estimators=200; total time=  15.1s\n",
      "[CV] END bootstrap=False, max_depth=60, min_samples_leaf=20, min_samples_split=40, n_estimators=200; total time=  15.1s\n",
      "[CV] END bootstrap=False, max_depth=60, min_samples_leaf=20, min_samples_split=40, n_estimators=200; total time=  15.4s\n",
      "[CV] END bootstrap=False, max_depth=60, min_samples_leaf=20, min_samples_split=40, n_estimators=200; total time=  15.4s\n",
      "[CV] END bootstrap=False, max_depth=60, min_samples_leaf=20, min_samples_split=40, n_estimators=200; total time=  15.0s\n",
      "Meilleurs paramètres trouvés : {'bootstrap': False, 'max_depth': 40, 'min_samples_leaf': 15, 'min_samples_split': 30, 'n_estimators': 200}\n",
      "Précision du modèle avec les meilleurs paramètres : 0.452661519707436\n"
     ]
    }
   ],
   "source": [
    "rf = RandomForestClassifier()\n",
    "X_train, X_test, y_tr, y_test = train_test_split(X, y, test_size=0.2, random_state=42)\n",
    "\n",
    "param_grid = {\n",
    "    'n_estimators': [200],\n",
    "    'max_depth': [40, 50, 60],\n",
    "    'min_samples_split': [20, 30, 40],\n",
    "    'min_samples_leaf': [10, 15, 20],\n",
    "    'bootstrap': [False]\n",
    "}\n",
    "grid_search = GridSearchCV(estimator=rf, param_grid=param_grid, \n",
    "                           cv=5, n_jobs=-1, verbose=2)\n",
    "\n",
    "grid_search.fit(X_train, y_tr)\n",
    "print(\"Meilleurs paramètres trouvés :\", grid_search.best_params_)\n",
    "best_rf = grid_search.best_estimator_\n",
    "y_pred = best_rf.predict(X_test)\n",
    "accuracy = accuracy_score(y_test, y_pred)\n",
    "print(\"Précision du modèle avec les meilleurs paramètres :\", accuracy)"
   ]
  },
  {
   "cell_type": "code",
   "execution_count": 144,
   "metadata": {},
   "outputs": [],
   "source": [
    "X_test = df_team_metric_test.drop(columns=['ID']).copy().fillna(0)\n",
    "model = RandomForestClassifier(bootstrap= False, \n",
    "                               max_depth= 40, \n",
    "                               min_samples_leaf = 15, \n",
    "                               min_samples_split= 30, \n",
    "                               n_estimators= 200)\n",
    "model.fit(X,y)\n",
    "predictions = model.predict(X_test)\n",
    "\n",
    "predictions = pd.DataFrame(data = [[id, pred] for id,pred in zip(df_team_metric_test['ID'].values , predictions)], \n",
    "                           columns=['ID', 'prediction'])\n",
    "def transform_target(row):\n",
    "    if row==1:\n",
    "        return [1,0,0]\n",
    "    elif row==0:\n",
    "        return [0,1,0]\n",
    "    elif row==-1:\n",
    "        return [0,0,1]\n",
    "predictions['prediction'] = predictions['prediction'].apply(transform_target)\n",
    "predictions.to_csv('/Users/augustincablant/Desktop/QRT/submission1')"
   ]
  },
  {
   "cell_type": "code",
   "execution_count": 142,
   "metadata": {},
   "outputs": [
    {
     "data": {
      "text/plain": [
       "[1, 0, 0]    46308\n",
       "[0, 0, 1]     4424\n",
       "[0, 1, 0]        4\n",
       "Name: prediction, dtype: int64"
      ]
     },
     "execution_count": 142,
     "metadata": {},
     "output_type": "execute_result"
    }
   ],
   "source": [
    "predictions['prediction'].value_counts()"
   ]
  },
  {
   "cell_type": "markdown",
   "metadata": {},
   "source": [
    "Idée : on voit déjà que prédire toujours la victoire marche bien. \n",
    "Je pense qu'il faudrait essayer de se focus sur les matchs nuls, parvenir à trouver leur singularité ? Peut-être le fait que les stats des deux équipes soient très proches ? "
   ]
  },
  {
   "cell_type": "code",
   "execution_count": null,
   "metadata": {},
   "outputs": [],
   "source": []
  },
  {
   "cell_type": "code",
   "execution_count": null,
   "metadata": {},
   "outputs": [],
   "source": []
  }
 ],
 "metadata": {
  "kernelspec": {
   "display_name": "base",
   "language": "python",
   "name": "python3"
  },
  "language_info": {
   "codemirror_mode": {
    "name": "ipython",
    "version": 3
   },
   "file_extension": ".py",
   "mimetype": "text/x-python",
   "name": "python",
   "nbconvert_exporter": "python",
   "pygments_lexer": "ipython3",
   "version": "3.9.12"
  }
 },
 "nbformat": 4,
 "nbformat_minor": 2
}
