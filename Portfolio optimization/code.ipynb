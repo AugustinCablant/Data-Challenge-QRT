{
 "cells": [
  {
   "cell_type": "markdown",
   "metadata": {},
   "source": [
    "# Optimization for Portfolio Allocation\n",
    "\n",
    "Portfolio Optimisation is the process of selecting the best portfolio, or rather the best set of possible weights for a basket of assets, given some sort of objective function. Common objective functions include maximising returns, minimising risk, maximising return-risk ratio or minimising tail risk. The aim of our study is to understand deeper into how Machine Learning can be used to tackle such a complex asset allocation problem, and potentially devise a quantitative strategy that exceeds traditional methods."
   ]
  },
  {
   "cell_type": "markdown",
   "metadata": {},
   "source": [
    "The most common strategy that comes to mind when we talk about Portfolio Optimisation would be Markowitz’s Mean-Variance Optimisation. It aims to maximise portfolio returns while minimising portfolio risk, or rather the portfolio’s volatility. <br>\n",
    "<br>\n",
    "For example, investing in two separate negatively correlated stocks instead of a single stock is likely to reduce the risk, or in this case the volatility, of the portfolio. Such an action can also potentially generate greater returns even with the reduced risk. However, Markowitz’s model requires the forecasted portfolio return and volatility as an input to the model.<br>\n",
    "<br>\n",
    "Instead of a simple moving average forecast, we see an opportunity to use Machine Learning to gather a more accurate forecast of the future expected portfolio returns and volatility. With the assumption that the underlying theory of Mean-Variance Optimisation works, we would then be able to come up with an optimal portfolio. This strategy would, hence, combine more advanced Machine Learning techniques with traditional financial theory.<br>"
   ]
  },
  {
   "cell_type": "code",
   "execution_count": 1,
   "metadata": {},
   "outputs": [
    {
     "name": "stdout",
     "output_type": "stream",
     "text": [
      "Requirement already satisfied: yfinance in /Users/augustincablant/opt/anaconda3/lib/python3.9/site-packages (0.2.26)\n",
      "Requirement already satisfied: appdirs>=1.4.4 in /Users/augustincablant/opt/anaconda3/lib/python3.9/site-packages (from yfinance) (1.4.4)\n",
      "Requirement already satisfied: pandas>=1.3.0 in /Users/augustincablant/opt/anaconda3/lib/python3.9/site-packages (from yfinance) (1.4.4)\n",
      "Requirement already satisfied: numpy>=1.16.5 in /Users/augustincablant/opt/anaconda3/lib/python3.9/site-packages (from yfinance) (1.22.4)\n",
      "Requirement already satisfied: lxml>=4.9.1 in /Users/augustincablant/opt/anaconda3/lib/python3.9/site-packages (from yfinance) (4.9.1)\n",
      "Requirement already satisfied: frozendict>=2.3.4 in /Users/augustincablant/opt/anaconda3/lib/python3.9/site-packages (from yfinance) (2.3.8)\n",
      "Requirement already satisfied: requests>=2.31 in /Users/augustincablant/opt/anaconda3/lib/python3.9/site-packages (from yfinance) (2.31.0)\n",
      "Requirement already satisfied: beautifulsoup4>=4.11.1 in /Users/augustincablant/opt/anaconda3/lib/python3.9/site-packages (from yfinance) (4.11.1)\n",
      "Requirement already satisfied: pytz>=2022.5 in /Users/augustincablant/opt/anaconda3/lib/python3.9/site-packages (from yfinance) (2023.3)\n",
      "Requirement already satisfied: multitasking>=0.0.7 in /Users/augustincablant/opt/anaconda3/lib/python3.9/site-packages (from yfinance) (0.0.11)\n",
      "Requirement already satisfied: html5lib>=1.1 in /Users/augustincablant/opt/anaconda3/lib/python3.9/site-packages (from yfinance) (1.1)\n",
      "Requirement already satisfied: soupsieve>1.2 in /Users/augustincablant/opt/anaconda3/lib/python3.9/site-packages (from beautifulsoup4>=4.11.1->yfinance) (2.3.1)\n",
      "Requirement already satisfied: six>=1.9 in /Users/augustincablant/opt/anaconda3/lib/python3.9/site-packages (from html5lib>=1.1->yfinance) (1.16.0)\n",
      "Requirement already satisfied: webencodings in /Users/augustincablant/opt/anaconda3/lib/python3.9/site-packages (from html5lib>=1.1->yfinance) (0.5.1)\n",
      "Requirement already satisfied: python-dateutil>=2.8.1 in /Users/augustincablant/opt/anaconda3/lib/python3.9/site-packages (from pandas>=1.3.0->yfinance) (2.8.2)\n",
      "Requirement already satisfied: certifi>=2017.4.17 in /Users/augustincablant/opt/anaconda3/lib/python3.9/site-packages (from requests>=2.31->yfinance) (2023.5.7)\n",
      "Requirement already satisfied: charset-normalizer<4,>=2 in /Users/augustincablant/opt/anaconda3/lib/python3.9/site-packages (from requests>=2.31->yfinance) (2.0.4)\n",
      "Requirement already satisfied: urllib3<3,>=1.21.1 in /Users/augustincablant/opt/anaconda3/lib/python3.9/site-packages (from requests>=2.31->yfinance) (1.26.11)\n",
      "Requirement already satisfied: idna<4,>=2.5 in /Users/augustincablant/opt/anaconda3/lib/python3.9/site-packages (from requests>=2.31->yfinance) (3.3)\n",
      "Requirement already satisfied: PyPortfolioOpt in /Users/augustincablant/opt/anaconda3/lib/python3.9/site-packages (1.5.5)\n",
      "Requirement already satisfied: numpy<2.0.0,>=1.22.4 in /Users/augustincablant/opt/anaconda3/lib/python3.9/site-packages (from PyPortfolioOpt) (1.22.4)\n",
      "Requirement already satisfied: pandas>=0.19 in /Users/augustincablant/opt/anaconda3/lib/python3.9/site-packages (from PyPortfolioOpt) (1.4.4)\n",
      "Requirement already satisfied: cvxpy<2.0.0,>=1.1.19 in /Users/augustincablant/opt/anaconda3/lib/python3.9/site-packages (from PyPortfolioOpt) (1.3.2)\n",
      "Requirement already satisfied: scipy<2.0,>=1.3 in /Users/augustincablant/opt/anaconda3/lib/python3.9/site-packages (from PyPortfolioOpt) (1.7.3)\n",
      "Requirement already satisfied: osqp>=0.4.1 in /Users/augustincablant/opt/anaconda3/lib/python3.9/site-packages (from cvxpy<2.0.0,>=1.1.19->PyPortfolioOpt) (0.6.3)\n",
      "Requirement already satisfied: scs>=1.1.6 in /Users/augustincablant/opt/anaconda3/lib/python3.9/site-packages (from cvxpy<2.0.0,>=1.1.19->PyPortfolioOpt) (3.2.3)\n",
      "Requirement already satisfied: ecos>=2 in /Users/augustincablant/opt/anaconda3/lib/python3.9/site-packages (from cvxpy<2.0.0,>=1.1.19->PyPortfolioOpt) (2.0.12)\n",
      "Requirement already satisfied: setuptools>65.5.1 in /Users/augustincablant/opt/anaconda3/lib/python3.9/site-packages (from cvxpy<2.0.0,>=1.1.19->PyPortfolioOpt) (68.0.0)\n",
      "Requirement already satisfied: python-dateutil>=2.8.1 in /Users/augustincablant/opt/anaconda3/lib/python3.9/site-packages (from pandas>=0.19->PyPortfolioOpt) (2.8.2)\n",
      "Requirement already satisfied: pytz>=2020.1 in /Users/augustincablant/opt/anaconda3/lib/python3.9/site-packages (from pandas>=0.19->PyPortfolioOpt) (2023.3)\n",
      "Requirement already satisfied: qdldl in /Users/augustincablant/opt/anaconda3/lib/python3.9/site-packages (from osqp>=0.4.1->cvxpy<2.0.0,>=1.1.19->PyPortfolioOpt) (0.1.7.post0)\n",
      "Requirement already satisfied: six>=1.5 in /Users/augustincablant/opt/anaconda3/lib/python3.9/site-packages (from python-dateutil>=2.8.1->pandas>=0.19->PyPortfolioOpt) (1.16.0)\n"
     ]
    }
   ],
   "source": [
    "# Install\n",
    "! pip install yfinance\n",
    "! pip install PyPortfolioOpt\n",
    "\n",
    "\n",
    "# Import \n",
    "import yfinance as yf\n",
    "import datetime as dt\n",
    "import matplotlib.pyplot as plt\n",
    "import pandas as pd\n",
    "import numpy as np\n",
    "from pypfopt import risk_models\n",
    "from pypfopt import plotting\n",
    "from pypfopt import expected_returns\n",
    "from pypfopt.efficient_frontier import EfficientFrontier\n",
    "from pypfopt.discrete_allocation import DiscreteAllocation, get_latest_prices\n",
    "from pypfopt import HRPOpt\n",
    "from pypfopt.efficient_frontier import EfficientCVaR"
   ]
  },
  {
   "cell_type": "code",
   "execution_count": 2,
   "metadata": {},
   "outputs": [
    {
     "ename": "NameError",
     "evalue": "name 'data' is not defined",
     "output_type": "error",
     "traceback": [
      "\u001b[0;31m---------------------------------------------------------------------------\u001b[0m",
      "\u001b[0;31mNameError\u001b[0m                                 Traceback (most recent call last)",
      "\u001b[0;32m/var/folders/bt/r1dg46ys21lb57m4n4x11m6c0000gn/T/ipykernel_6010/4117447152.py\u001b[0m in \u001b[0;36m<module>\u001b[0;34m\u001b[0m\n\u001b[1;32m      9\u001b[0m \u001b[0mstart_date\u001b[0m \u001b[0;34m=\u001b[0m \u001b[0mdt\u001b[0m\u001b[0;34m.\u001b[0m\u001b[0mdatetime\u001b[0m\u001b[0;34m.\u001b[0m\u001b[0mstrptime\u001b[0m\u001b[0;34m(\u001b[0m\u001b[0mdate_b\u001b[0m\u001b[0;34m,\u001b[0m \u001b[0;34m\"%Y-%m-%d\"\u001b[0m\u001b[0;34m)\u001b[0m\u001b[0;34m\u001b[0m\u001b[0;34m\u001b[0m\u001b[0m\n\u001b[1;32m     10\u001b[0m \u001b[0mend_date\u001b[0m \u001b[0;34m=\u001b[0m \u001b[0mdt\u001b[0m\u001b[0;34m.\u001b[0m\u001b[0mdatetime\u001b[0m\u001b[0;34m.\u001b[0m\u001b[0mstrptime\u001b[0m\u001b[0;34m(\u001b[0m\u001b[0mdate_e\u001b[0m\u001b[0;34m,\u001b[0m \u001b[0;34m\"%Y-%m-%d\"\u001b[0m\u001b[0;34m)\u001b[0m\u001b[0;34m\u001b[0m\u001b[0;34m\u001b[0m\u001b[0m\n\u001b[0;32m---> 11\u001b[0;31m \u001b[0mdf\u001b[0m \u001b[0;34m=\u001b[0m \u001b[0mdata\u001b[0m\u001b[0;34m.\u001b[0m\u001b[0mhistory\u001b[0m\u001b[0;34m(\u001b[0m\u001b[0mstart\u001b[0m\u001b[0;34m=\u001b[0m\u001b[0mstart_date\u001b[0m\u001b[0;34m,\u001b[0m\u001b[0mend\u001b[0m\u001b[0;34m=\u001b[0m\u001b[0mend_date\u001b[0m\u001b[0;34m)\u001b[0m\u001b[0;34m\u001b[0m\u001b[0;34m\u001b[0m\u001b[0m\n\u001b[0m\u001b[1;32m     12\u001b[0m \u001b[0;34m\u001b[0m\u001b[0m\n\u001b[1;32m     13\u001b[0m \u001b[0mohlc\u001b[0m \u001b[0;34m=\u001b[0m \u001b[0myf\u001b[0m\u001b[0;34m.\u001b[0m\u001b[0mdownload\u001b[0m\u001b[0;34m(\u001b[0m\u001b[0mtickers\u001b[0m\u001b[0;34m,\u001b[0m \u001b[0mstart\u001b[0m \u001b[0;34m=\u001b[0m \u001b[0mstart_date\u001b[0m\u001b[0;34m,\u001b[0m \u001b[0mend\u001b[0m \u001b[0;34m=\u001b[0m \u001b[0mend_date\u001b[0m\u001b[0;34m)\u001b[0m\u001b[0;34m\u001b[0m\u001b[0;34m\u001b[0m\u001b[0m\n",
      "\u001b[0;31mNameError\u001b[0m: name 'data' is not defined"
     ]
    }
   ],
   "source": [
    "# Tickers \n",
    "tickers = [\"BLK\", \"BAC\", \"AAPL\", \"TM\", \"WMT\",\n",
    "           \"JD\", \"INTU\", \"MA\", \"UL\", \"CVS\",\n",
    "           \"DIS\", \"AMD\", \"NVDA\", \"PBI\", \"TGT\"]\n",
    "\n",
    "# Let's focus on 2001-2023 \n",
    "date_b = \"2001-01-01\"\n",
    "date_e = \"2023-07-23\"\n",
    "start_date = dt.datetime.strptime(date_b, \"%Y-%m-%d\")\n",
    "end_date = dt.datetime.strptime(date_e, \"%Y-%m-%d\")\n",
    "df = data.history(start=start_date,end=end_date)\n",
    "\n",
    "ohlc = yf.download(tickers, start = start_date, end = end_date)\n",
    "print(\"ohlc type is :\", type(ohlc))\n",
    "\n",
    "# Drop na\n",
    "prices = ohlc[\"Adj Close\"].dropna(how=\"all\")\n",
    "prices.head()\n",
    "prices.plot(figsize = (16,12))"
   ]
  },
  {
   "cell_type": "code",
   "execution_count": null,
   "metadata": {},
   "outputs": [],
   "source": [
    "# Calculating the covariance matrix\n",
    "\n",
    "sample_cov = risk_models.sample_cov(prices, frequency=252)\n",
    "\n",
    "sample_cov.head()"
   ]
  },
  {
   "cell_type": "code",
   "execution_count": null,
   "metadata": {},
   "outputs": [],
   "source": [
    "plotting.plot_covariance(sample_cov, plot_correlation=True)"
   ]
  },
  {
   "cell_type": "code",
   "execution_count": null,
   "metadata": {},
   "outputs": [],
   "source": [
    "S = risk_models.CovarianceShrinkage(prices).ledoit_wolf()\n",
    "plotting.plot_covariance(S, plot_correlation=True)"
   ]
  },
  {
   "cell_type": "code",
   "execution_count": null,
   "metadata": {},
   "outputs": [],
   "source": [
    "# expected returns\n",
    "expected_returns.capm_return(prices)"
   ]
  },
  {
   "cell_type": "markdown",
   "metadata": {},
   "source": [
    "##  I) Mean-Variance Optimization"
   ]
  },
  {
   "cell_type": "code",
   "execution_count": null,
   "metadata": {},
   "outputs": [],
   "source": [
    "\n",
    "portfolio = prices\n",
    "mu = expected_returns.mean_historical_return(portfolio)\n",
    "S = risk_models.CovarianceShrinkage(portfolio).ledoit_wolf()"
   ]
  },
  {
   "cell_type": "markdown",
   "metadata": {},
   "source": [
    "Next, let’s import the EfficientFrontier module and calculate the weights. Here, we will use the max Sharpe statistic. The Sharpe ratio is the ratio between returns and risk. The lower the risk and the higher the returns, the higher the Sharpe ratio. The algorithm looks for the maximum Sharpe ratio, which translates to the portfolio with the highest return and lowest risk. Ultimately, the higher the Sharpe ratio, the better the performance of the portfolio."
   ]
  },
  {
   "cell_type": "code",
   "execution_count": null,
   "metadata": {},
   "outputs": [],
   "source": [
    "ef = EfficientFrontier(mu, S)\n",
    "weights = ef.max_sharpe()\n",
    "cleaned_weights = ef.clean_weights()\n",
    "\n",
    "print(dict(cleaned_weights))\n",
    "print(ef.portfolio_performance(verbose=True))"
   ]
  },
  {
   "cell_type": "code",
   "execution_count": null,
   "metadata": {},
   "outputs": [],
   "source": [
    "latest_prices = get_latest_prices(portfolio)\n",
    "da = DiscreteAllocation(weights, latest_prices, total_portfolio_value=100000)\n",
    "\n",
    "allocation, leftover = da.greedy_portfolio()\n",
    "print(\"Discrete allocation:\", allocation)\n",
    "print(\"Funds remaining: ${:.2f}\".format(leftover))"
   ]
  },
  {
   "cell_type": "markdown",
   "metadata": {},
   "source": [
    "Our algorithm says we should invest in 143 shares of MA and 223 shares of AAPL.\n",
    "\n",
    "\n",
    "We see that our portfolio performs with an expected annual return of 32.3%.\n",
    "Mean variance optimization doesn’t perform very well since it makes many simplifying assumptions, such as returns being normally distributed and the need for an invertible covariance matrix."
   ]
  },
  {
   "cell_type": "markdown",
   "metadata": {},
   "source": [
    "## II)  Hierarchical Risk Parity (HRP)"
   ]
  },
  {
   "cell_type": "code",
   "execution_count": null,
   "metadata": {},
   "outputs": [],
   "source": [
    "\n",
    "returns = portfolio.pct_change().dropna()\n",
    "# Run the optimization algorithm to get the weights:\n",
    "\n",
    "hrp = HRPOpt(returns)\n",
    "hrp_weights = hrp.optimize()\n",
    "\n",
    "# Print the performance of the portfolio and the weights\n",
    "hrp.portfolio_performance(verbose=True)\n",
    "print(dict(hrp_weights))\n",
    "\n",
    "# let’s calculate the discrete allocation using our weights\n",
    "\n",
    "da_hrp = DiscreteAllocation(hrp_weights, latest_prices, total_portfolio_value=100000)\n",
    "\n",
    "allocation, leftover = da_hrp.greedy_portfolio()\n",
    "print(\"Discrete allocation (HRP):\", allocation)\n",
    "print(\"Funds remaining (HRP): ${:.2f}\".format(leftover))"
   ]
  },
  {
   "cell_type": "markdown",
   "metadata": {},
   "source": [
    "## III) Mean Conditional Value at Risk (mCVAR)\n",
    "\n",
    "It works by measuring the worst-case scenarios for each asset in the portfolio, which is represented here by losing the most money. The worst-case loss for each asset is then used to calculate weights to be used for allocation for each asset."
   ]
  },
  {
   "cell_type": "code",
   "execution_count": null,
   "metadata": {},
   "outputs": [],
   "source": [
    "S = portfolio.cov()\n",
    "ef_cvar = EfficientCVaR(mu, S)\n",
    "cvar_weights = ef_cvar.min_cvar()\n",
    "\n",
    "cleaned_weights = ef_cvar.clean_weights()\n",
    "print(dict(cleaned_weights))"
   ]
  },
  {
   "cell_type": "code",
   "execution_count": null,
   "metadata": {},
   "outputs": [],
   "source": [
    "da_cvar = DiscreteAllocation(cvar_weights, latest_prices, total_portfolio_value=100000)\n",
    "\n",
    "allocation, leftover = da_cvar.greedy_portfolio()\n",
    "print(\"Discrete allocation (CVAR):\", allocation)\n",
    "print(\"Funds remaining (CVAR): ${:.2f}\".format(leftover))"
   ]
  }
 ],
 "metadata": {
  "kernelspec": {
   "display_name": "base",
   "language": "python",
   "name": "python3"
  },
  "language_info": {
   "codemirror_mode": {
    "name": "ipython",
    "version": 3
   },
   "file_extension": ".py",
   "mimetype": "text/x-python",
   "name": "python",
   "nbconvert_exporter": "python",
   "pygments_lexer": "ipython3",
   "version": "3.9.12"
  },
  "orig_nbformat": 4
 },
 "nbformat": 4,
 "nbformat_minor": 2
}
