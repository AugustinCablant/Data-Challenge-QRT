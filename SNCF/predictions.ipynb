{
 "cells": [
  {
   "cell_type": "code",
   "execution_count": 32,
   "metadata": {},
   "outputs": [],
   "source": [
    "import pandas as pd \n",
    "import numpy as np \n",
    "import matplotlib.pyplot as plt \n",
    "from datetime import datetime\n",
    "from sklearn.ensemble import RandomForestRegressor\n",
    "from sklearn.model_selection import train_test_split\n",
    "from sklearn.preprocessing import LabelEncoder"
   ]
  },
  {
   "cell_type": "code",
   "execution_count": 23,
   "metadata": {},
   "outputs": [
    {
     "name": "stderr",
     "output_type": "stream",
     "text": [
      "/var/folders/bt/r1dg46ys21lb57m4n4x11m6c0000gn/T/ipykernel_20137/4028105344.py:10: SettingWithCopyWarning: \n",
      "A value is trying to be set on a copy of a slice from a DataFrame\n",
      "\n",
      "See the caveats in the documentation: https://pandas.pydata.org/pandas-docs/stable/user_guide/indexing.html#returning-a-view-versus-a-copy\n",
      "  test['date'][i] = row.split('_')[0]\n",
      "/var/folders/bt/r1dg46ys21lb57m4n4x11m6c0000gn/T/ipykernel_20137/4028105344.py:11: SettingWithCopyWarning: \n",
      "A value is trying to be set on a copy of a slice from a DataFrame\n",
      "\n",
      "See the caveats in the documentation: https://pandas.pydata.org/pandas-docs/stable/user_guide/indexing.html#returning-a-view-versus-a-copy\n",
      "  test['station'][i] = row.split('_')[1]\n",
      "/var/folders/bt/r1dg46ys21lb57m4n4x11m6c0000gn/T/ipykernel_20137/4028105344.py:23: SettingWithCopyWarning: \n",
      "A value is trying to be set on a copy of a slice from a DataFrame\n",
      "\n",
      "See the caveats in the documentation: https://pandas.pydata.org/pandas-docs/stable/user_guide/indexing.html#returning-a-view-versus-a-copy\n",
      "  df_train['jour'][i] = date.day\n",
      "/var/folders/bt/r1dg46ys21lb57m4n4x11m6c0000gn/T/ipykernel_20137/4028105344.py:24: SettingWithCopyWarning: \n",
      "A value is trying to be set on a copy of a slice from a DataFrame\n",
      "\n",
      "See the caveats in the documentation: https://pandas.pydata.org/pandas-docs/stable/user_guide/indexing.html#returning-a-view-versus-a-copy\n",
      "  df_train['mois'][i] = date.month\n",
      "/var/folders/bt/r1dg46ys21lb57m4n4x11m6c0000gn/T/ipykernel_20137/4028105344.py:25: SettingWithCopyWarning: \n",
      "A value is trying to be set on a copy of a slice from a DataFrame\n",
      "\n",
      "See the caveats in the documentation: https://pandas.pydata.org/pandas-docs/stable/user_guide/indexing.html#returning-a-view-versus-a-copy\n",
      "  df_train['année'][i] = date.year\n"
     ]
    },
    {
     "data": {
      "text/html": [
       "<div>\n",
       "<style scoped>\n",
       "    .dataframe tbody tr th:only-of-type {\n",
       "        vertical-align: middle;\n",
       "    }\n",
       "\n",
       "    .dataframe tbody tr th {\n",
       "        vertical-align: top;\n",
       "    }\n",
       "\n",
       "    .dataframe thead th {\n",
       "        text-align: right;\n",
       "    }\n",
       "</style>\n",
       "<table border=\"1\" class=\"dataframe\">\n",
       "  <thead>\n",
       "    <tr style=\"text-align: right;\">\n",
       "      <th></th>\n",
       "      <th>date</th>\n",
       "      <th>station</th>\n",
       "      <th>job</th>\n",
       "      <th>ferie</th>\n",
       "      <th>vacances</th>\n",
       "      <th>index</th>\n",
       "      <th>y</th>\n",
       "      <th>jour</th>\n",
       "      <th>mois</th>\n",
       "      <th>année</th>\n",
       "    </tr>\n",
       "  </thead>\n",
       "  <tbody>\n",
       "    <tr>\n",
       "      <th>0</th>\n",
       "      <td>2015-01-01</td>\n",
       "      <td>1J7</td>\n",
       "      <td>1</td>\n",
       "      <td>1</td>\n",
       "      <td>1</td>\n",
       "      <td>2015-01-01_1J7</td>\n",
       "      <td>7</td>\n",
       "      <td>1</td>\n",
       "      <td>1</td>\n",
       "      <td>2015</td>\n",
       "    </tr>\n",
       "    <tr>\n",
       "      <th>1</th>\n",
       "      <td>2015-01-01</td>\n",
       "      <td>O2O</td>\n",
       "      <td>1</td>\n",
       "      <td>1</td>\n",
       "      <td>1</td>\n",
       "      <td>2015-01-01_O2O</td>\n",
       "      <td>0</td>\n",
       "      <td>1</td>\n",
       "      <td>1</td>\n",
       "      <td>2015</td>\n",
       "    </tr>\n",
       "    <tr>\n",
       "      <th>2</th>\n",
       "      <td>2015-01-01</td>\n",
       "      <td>8QR</td>\n",
       "      <td>1</td>\n",
       "      <td>1</td>\n",
       "      <td>1</td>\n",
       "      <td>2015-01-01_8QR</td>\n",
       "      <td>9</td>\n",
       "      <td>1</td>\n",
       "      <td>1</td>\n",
       "      <td>2015</td>\n",
       "    </tr>\n",
       "    <tr>\n",
       "      <th>3</th>\n",
       "      <td>2015-01-01</td>\n",
       "      <td>UMC</td>\n",
       "      <td>1</td>\n",
       "      <td>1</td>\n",
       "      <td>1</td>\n",
       "      <td>2015-01-01_UMC</td>\n",
       "      <td>9</td>\n",
       "      <td>1</td>\n",
       "      <td>1</td>\n",
       "      <td>2015</td>\n",
       "    </tr>\n",
       "    <tr>\n",
       "      <th>4</th>\n",
       "      <td>2015-01-01</td>\n",
       "      <td>FK3</td>\n",
       "      <td>1</td>\n",
       "      <td>1</td>\n",
       "      <td>1</td>\n",
       "      <td>2015-01-01_FK3</td>\n",
       "      <td>28</td>\n",
       "      <td>1</td>\n",
       "      <td>1</td>\n",
       "      <td>2015</td>\n",
       "    </tr>\n",
       "  </tbody>\n",
       "</table>\n",
       "</div>"
      ],
      "text/plain": [
       "        date station  job  ferie  vacances           index   y  jour  mois  \\\n",
       "0 2015-01-01     1J7    1      1         1  2015-01-01_1J7   7     1     1   \n",
       "1 2015-01-01     O2O    1      1         1  2015-01-01_O2O   0     1     1   \n",
       "2 2015-01-01     8QR    1      1         1  2015-01-01_8QR   9     1     1   \n",
       "3 2015-01-01     UMC    1      1         1  2015-01-01_UMC   9     1     1   \n",
       "4 2015-01-01     FK3    1      1         1  2015-01-01_FK3  28     1     1   \n",
       "\n",
       "   année  \n",
       "0   2015  \n",
       "1   2015  \n",
       "2   2015  \n",
       "3   2015  \n",
       "4   2015  "
      ]
     },
     "execution_count": 23,
     "metadata": {},
     "output_type": "execute_result"
    }
   ],
   "source": [
    "df = pd.read_csv('/Users/augustincablant/Desktop/challenge_SNCF/train_f_x.csv')\n",
    "y = pd.read_csv('/Users/augustincablant/Desktop/challenge_SNCF/y_train_sncf.csv')\n",
    "def transform_y(dataset):\n",
    "    test = dataset\n",
    "    test['date'] = 0 \n",
    "    test['station'] = 0\n",
    "\n",
    "    for i in test.index.to_list():\n",
    "        row = test['index'][i]\n",
    "        test['date'][i] = row.split('_')[0]\n",
    "        test['station'][i] = row.split('_')[1]\n",
    "    return test\n",
    "\n",
    "y = transform_y(y)\n",
    "df_train = pd.merge(df, y, how = 'left', on = ['date', 'station'])\n",
    "df_train['date'] = pd.to_datetime(df_train['date'])\n",
    "\n",
    "df_train['jour'] = 0 \n",
    "df_train['mois'] = 0 \n",
    "df_train['année'] = 0 \n",
    "for i in df_train.index:\n",
    "    date = df_train['date'][i]\n",
    "    df_train['jour'][i] = date.day\n",
    "    df_train['mois'][i] = date.month \n",
    "    df_train['année'][i] = date.year\n",
    "\n",
    "df_train.head()"
   ]
  },
  {
   "cell_type": "code",
   "execution_count": 44,
   "metadata": {},
   "outputs": [],
   "source": [
    "def mean_absolute_percentage_error(y_true, y_pred): \n",
    "    y_true, y_pred = np.array(y_true), np.array(y_pred)\n",
    "    zero_indices = y_true == 0\n",
    "    non_zero_error = np.abs((y_true[~zero_indices] - y_pred[~zero_indices]) / y_true[~zero_indices])\n",
    "    return np.mean(non_zero_error) * 100"
   ]
  },
  {
   "cell_type": "code",
   "execution_count": 34,
   "metadata": {},
   "outputs": [
    {
     "data": {
      "text/html": [
       "<div>\n",
       "<style scoped>\n",
       "    .dataframe tbody tr th:only-of-type {\n",
       "        vertical-align: middle;\n",
       "    }\n",
       "\n",
       "    .dataframe tbody tr th {\n",
       "        vertical-align: top;\n",
       "    }\n",
       "\n",
       "    .dataframe thead th {\n",
       "        text-align: right;\n",
       "    }\n",
       "</style>\n",
       "<table border=\"1\" class=\"dataframe\">\n",
       "  <thead>\n",
       "    <tr style=\"text-align: right;\">\n",
       "      <th></th>\n",
       "      <th>date</th>\n",
       "      <th>station</th>\n",
       "      <th>job</th>\n",
       "      <th>ferie</th>\n",
       "      <th>vacances</th>\n",
       "      <th>index</th>\n",
       "      <th>y</th>\n",
       "      <th>jour</th>\n",
       "      <th>mois</th>\n",
       "      <th>année</th>\n",
       "      <th>station_num</th>\n",
       "    </tr>\n",
       "  </thead>\n",
       "  <tbody>\n",
       "    <tr>\n",
       "      <th>0</th>\n",
       "      <td>2015-01-01</td>\n",
       "      <td>1J7</td>\n",
       "      <td>1</td>\n",
       "      <td>1</td>\n",
       "      <td>1</td>\n",
       "      <td>2015-01-01_1J7</td>\n",
       "      <td>7</td>\n",
       "      <td>1</td>\n",
       "      <td>1</td>\n",
       "      <td>2015</td>\n",
       "      <td>24</td>\n",
       "    </tr>\n",
       "    <tr>\n",
       "      <th>1</th>\n",
       "      <td>2015-01-01</td>\n",
       "      <td>O2O</td>\n",
       "      <td>1</td>\n",
       "      <td>1</td>\n",
       "      <td>1</td>\n",
       "      <td>2015-01-01_O2O</td>\n",
       "      <td>0</td>\n",
       "      <td>1</td>\n",
       "      <td>1</td>\n",
       "      <td>2015</td>\n",
       "      <td>295</td>\n",
       "    </tr>\n",
       "    <tr>\n",
       "      <th>2</th>\n",
       "      <td>2015-01-01</td>\n",
       "      <td>8QR</td>\n",
       "      <td>1</td>\n",
       "      <td>1</td>\n",
       "      <td>1</td>\n",
       "      <td>2015-01-01_8QR</td>\n",
       "      <td>9</td>\n",
       "      <td>1</td>\n",
       "      <td>1</td>\n",
       "      <td>2015</td>\n",
       "      <td>107</td>\n",
       "    </tr>\n",
       "    <tr>\n",
       "      <th>3</th>\n",
       "      <td>2015-01-01</td>\n",
       "      <td>UMC</td>\n",
       "      <td>1</td>\n",
       "      <td>1</td>\n",
       "      <td>1</td>\n",
       "      <td>2015-01-01_UMC</td>\n",
       "      <td>9</td>\n",
       "      <td>1</td>\n",
       "      <td>1</td>\n",
       "      <td>2015</td>\n",
       "      <td>367</td>\n",
       "    </tr>\n",
       "    <tr>\n",
       "      <th>4</th>\n",
       "      <td>2015-01-01</td>\n",
       "      <td>FK3</td>\n",
       "      <td>1</td>\n",
       "      <td>1</td>\n",
       "      <td>1</td>\n",
       "      <td>2015-01-01_FK3</td>\n",
       "      <td>28</td>\n",
       "      <td>1</td>\n",
       "      <td>1</td>\n",
       "      <td>2015</td>\n",
       "      <td>199</td>\n",
       "    </tr>\n",
       "  </tbody>\n",
       "</table>\n",
       "</div>"
      ],
      "text/plain": [
       "        date station  job  ferie  vacances           index   y  jour  mois  \\\n",
       "0 2015-01-01     1J7    1      1         1  2015-01-01_1J7   7     1     1   \n",
       "1 2015-01-01     O2O    1      1         1  2015-01-01_O2O   0     1     1   \n",
       "2 2015-01-01     8QR    1      1         1  2015-01-01_8QR   9     1     1   \n",
       "3 2015-01-01     UMC    1      1         1  2015-01-01_UMC   9     1     1   \n",
       "4 2015-01-01     FK3    1      1         1  2015-01-01_FK3  28     1     1   \n",
       "\n",
       "   année  station_num  \n",
       "0   2015           24  \n",
       "1   2015          295  \n",
       "2   2015          107  \n",
       "3   2015          367  \n",
       "4   2015          199  "
      ]
     },
     "execution_count": 34,
     "metadata": {},
     "output_type": "execute_result"
    }
   ],
   "source": [
    "label_encoder = LabelEncoder()\n",
    "df_train['station_num'] = label_encoder.fit_transform(df_train['station'])\n",
    "df_train.head()"
   ]
  },
  {
   "cell_type": "code",
   "execution_count": 35,
   "metadata": {},
   "outputs": [
    {
     "name": "stdout",
     "output_type": "stream",
     "text": [
      "MAPE is :  nan\n"
     ]
    },
    {
     "name": "stderr",
     "output_type": "stream",
     "text": [
      "/var/folders/bt/r1dg46ys21lb57m4n4x11m6c0000gn/T/ipykernel_20137/4111968303.py:3: RuntimeWarning: divide by zero encountered in true_divide\n",
      "  return np.mean(np.abs((y_true - y_pred) / y_true)) * 100\n",
      "/var/folders/bt/r1dg46ys21lb57m4n4x11m6c0000gn/T/ipykernel_20137/4111968303.py:3: RuntimeWarning: invalid value encountered in true_divide\n",
      "  return np.mean(np.abs((y_true - y_pred) / y_true)) * 100\n"
     ]
    }
   ],
   "source": [
    "X = df_train[['jour', 'mois', 'année', 'station_num', 'job', 'ferie', 'vacances']]\n",
    "Y = df_train['y']\n",
    "\n",
    "X_train, X_test, y_train, y_test = train_test_split(X, Y, test_size=0.2, random_state=42)\n",
    "\n",
    "rf_model = RandomForestRegressor(n_estimators=100, random_state=42)\n",
    "\n",
    "rf_model.fit(X_train, y_train)\n",
    "\n",
    "predictions = rf_model.predict(X_test)"
   ]
  },
  {
   "cell_type": "code",
   "execution_count": 45,
   "metadata": {},
   "outputs": [
    {
     "name": "stdout",
     "output_type": "stream",
     "text": [
      "MAPE is :  127.03759224463656\n"
     ]
    }
   ],
   "source": [
    "print(\"MAPE is : \",  mean_absolute_percentage_error(y_test.values, predictions))"
   ]
  },
  {
   "cell_type": "code",
   "execution_count": 46,
   "metadata": {},
   "outputs": [
    {
     "data": {
      "text/html": [
       "<div>\n",
       "<style scoped>\n",
       "    .dataframe tbody tr th:only-of-type {\n",
       "        vertical-align: middle;\n",
       "    }\n",
       "\n",
       "    .dataframe tbody tr th {\n",
       "        vertical-align: top;\n",
       "    }\n",
       "\n",
       "    .dataframe thead th {\n",
       "        text-align: right;\n",
       "    }\n",
       "</style>\n",
       "<table border=\"1\" class=\"dataframe\">\n",
       "  <thead>\n",
       "    <tr style=\"text-align: right;\">\n",
       "      <th></th>\n",
       "      <th>index</th>\n",
       "      <th>y</th>\n",
       "    </tr>\n",
       "  </thead>\n",
       "  <tbody>\n",
       "    <tr>\n",
       "      <th>0</th>\n",
       "      <td>2023-01-01_1J7</td>\n",
       "      <td>10000</td>\n",
       "    </tr>\n",
       "    <tr>\n",
       "      <th>1</th>\n",
       "      <td>2023-01-01_O2O</td>\n",
       "      <td>10000</td>\n",
       "    </tr>\n",
       "    <tr>\n",
       "      <th>2</th>\n",
       "      <td>2023-01-01_8QR</td>\n",
       "      <td>10000</td>\n",
       "    </tr>\n",
       "    <tr>\n",
       "      <th>3</th>\n",
       "      <td>2023-01-01_L58</td>\n",
       "      <td>10000</td>\n",
       "    </tr>\n",
       "    <tr>\n",
       "      <th>4</th>\n",
       "      <td>2023-01-01_UMC</td>\n",
       "      <td>10000</td>\n",
       "    </tr>\n",
       "  </tbody>\n",
       "</table>\n",
       "</div>"
      ],
      "text/plain": [
       "            index      y\n",
       "0  2023-01-01_1J7  10000\n",
       "1  2023-01-01_O2O  10000\n",
       "2  2023-01-01_8QR  10000\n",
       "3  2023-01-01_L58  10000\n",
       "4  2023-01-01_UMC  10000"
      ]
     },
     "execution_count": 46,
     "metadata": {},
     "output_type": "execute_result"
    }
   ],
   "source": [
    "y_exemple = pd.read_csv('/Users/augustincablant/Desktop/y_exemple_sncf_d9so9pm.csv')\n",
    "y_exemple.head()"
   ]
  },
  {
   "cell_type": "code",
   "execution_count": 52,
   "metadata": {},
   "outputs": [
    {
     "name": "stderr",
     "output_type": "stream",
     "text": [
      "/var/folders/bt/r1dg46ys21lb57m4n4x11m6c0000gn/T/ipykernel_20137/314973587.py:9: SettingWithCopyWarning: \n",
      "A value is trying to be set on a copy of a slice from a DataFrame\n",
      "\n",
      "See the caveats in the documentation: https://pandas.pydata.org/pandas-docs/stable/user_guide/indexing.html#returning-a-view-versus-a-copy\n",
      "  X_predict['jour'][i] = date.day\n",
      "/var/folders/bt/r1dg46ys21lb57m4n4x11m6c0000gn/T/ipykernel_20137/314973587.py:10: SettingWithCopyWarning: \n",
      "A value is trying to be set on a copy of a slice from a DataFrame\n",
      "\n",
      "See the caveats in the documentation: https://pandas.pydata.org/pandas-docs/stable/user_guide/indexing.html#returning-a-view-versus-a-copy\n",
      "  X_predict['mois'][i] = date.month\n",
      "/var/folders/bt/r1dg46ys21lb57m4n4x11m6c0000gn/T/ipykernel_20137/314973587.py:11: SettingWithCopyWarning: \n",
      "A value is trying to be set on a copy of a slice from a DataFrame\n",
      "\n",
      "See the caveats in the documentation: https://pandas.pydata.org/pandas-docs/stable/user_guide/indexing.html#returning-a-view-versus-a-copy\n",
      "  X_predict['année'][i] = date.year\n"
     ]
    }
   ],
   "source": [
    "X_predict = pd.read_csv('/Users/augustincablant/Desktop/challenge_SNCF/test_f_x_THurtzP.csv')\n",
    "X_predict['station_num'] = label_encoder.transform(X_predict['station'])\n",
    "X_predict['date'] = pd.to_datetime(X_predict['date'])\n",
    "X_predict['jour'] = 0 \n",
    "X_predict['mois'] = 0 \n",
    "X_predict['année'] = 0 \n",
    "for i in X_predict.index:\n",
    "    date = X_predict['date'][i]\n",
    "    X_predict['jour'][i] = date.day\n",
    "    X_predict['mois'][i] = date.month \n",
    "    X_predict['année'][i] = date.year"
   ]
  },
  {
   "cell_type": "code",
   "execution_count": 54,
   "metadata": {},
   "outputs": [
    {
     "data": {
      "text/plain": [
       "array([ 27.8 ,  16.85,  22.53, ...,  55.89, 550.37, 209.08])"
      ]
     },
     "execution_count": 54,
     "metadata": {},
     "output_type": "execute_result"
    }
   ],
   "source": [
    "predictions = rf_model.predict(X_predict[['jour', 'mois', 'année', 'station_num', 'job', 'ferie', 'vacances']])\n",
    "predictions"
   ]
  },
  {
   "cell_type": "code",
   "execution_count": 64,
   "metadata": {},
   "outputs": [],
   "source": [
    "X_predict['y'] = predictions\n",
    "y_pred = X_predict[['index', 'y']]\n",
    "y_pred.set_index('index', inplace = True)\n",
    "y_pred.to_csv('/Users/augustincablant/Desktop/challenge_SNCF/output1.csv')"
   ]
  },
  {
   "cell_type": "code",
   "execution_count": null,
   "metadata": {},
   "outputs": [],
   "source": []
  }
 ],
 "metadata": {
  "kernelspec": {
   "display_name": "base",
   "language": "python",
   "name": "python3"
  },
  "language_info": {
   "codemirror_mode": {
    "name": "ipython",
    "version": 3
   },
   "file_extension": ".py",
   "mimetype": "text/x-python",
   "name": "python",
   "nbconvert_exporter": "python",
   "pygments_lexer": "ipython3",
   "version": "3.9.12"
  }
 },
 "nbformat": 4,
 "nbformat_minor": 2
}
