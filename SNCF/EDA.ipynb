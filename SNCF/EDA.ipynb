{
 "cells": [
  {
   "cell_type": "code",
   "execution_count": 1,
   "metadata": {},
   "outputs": [],
   "source": [
    "import pandas as pd \n",
    "import numpy as np \n",
    "import matplotlib.pyplot as plt "
   ]
  },
  {
   "cell_type": "markdown",
   "metadata": {},
   "source": [
    "# Contexte \n",
    "\n",
    "SNCF-Transilien est l’opérateur de trains de banlieue d'Île-de-France. Nous faisons circuler plus de 6 200 trains permettant à 3,2 millions de voyageurs de se déplacer. Ces voyageurs valident leurs cartes à puce sur nos portiques en moyenne 2,3 millions de fois par jour. Le nombre de validations croît de 2015 à 2019 d’environ 6% par an. Mieux anticiper cette augmentation nous aidera à proposer des services plus adaptés et à améliorer la performance de notre exploitation.\n",
    "\n",
    "# But\n",
    "Le but de ce challenge pour SNCF-Transilien est de prédire à moyen-long terme le nombre de validations par jour et par gare.\n",
    "\n",
    "C'est un problème classique de prévision de séries temporelles. La complexité vient de la multiplicité des séries. L'objectif pour SNCF-Transilien est de pouvoir anticiper les volumes de voyageurs à absorber dans les années à venir. SNCF-Transilien est objectivé sur la croissance du volume de validations sur ses gares, l'anticiper et mieux le comprendre est essentiel pour nous.\n",
    "\n",
    "# Structure des données\n",
    "Nous utilisons la variable date pour spécifier le jour auquel les validations sont comptabilisées et station pour spécifier la gare donnée. La variable y donne le nombre de validations par jour et par gare.\n",
    "\n",
    "- Un jeu de données train.csv avec 1 237 971 lignes et 6 colonnes. Il s’agit des données quotidiennes de validations des 448 stations du réseau SNCF-Transilien (comprenant toutes les gares du RER A et du RER B) entre le 1er janvier 2015 et le 31 décembre 2022 (soit 2922 jours).\n",
    "\n",
    "- Un jeu de données test.csv avec 78 652 lignes et 6 colonnes. Il s’agit des données quotidiennes de validations des 448 stations du réseau SNCF-Transilien (comprenant toutes les gares du RER A et du RER B) entre le 1er janvier 2023 et le 30 juin 2023 (soit 181 jours).\n",
    "\n",
    "Nous vous demandons de prédire le nombre de validations (variable y) par jour pour toutes les gares de SNCF-Transilien entre le 1er janvier 2023 et le 30 juin 2023. Nous fournissons quelques variables exogènes qui pourront être enrichies.\n",
    "\n",
    "\n",
    "Variables contextuelles :\n",
    "- date : la date du jour où les validations ont été collectées au format YYYY-MM-DD ;\n",
    "\n",
    "- station : identifiant de la gare anonymisé en 3 caractères (7RP, J3V…) ;\n",
    "\n",
    "- job : indicatrice valant 1 si le jour est un JOB (Jour Ouvrable de Base), c’est-à-dire un lundi, mardi, mercredi, jeudi ou vendredi, 0 sinon ;\n",
    "\n",
    "- ferie : indicatrice valant 1 si le jour est férié, 0 sinon ;\n",
    "\n",
    "- vacances : indicatrice valant 1 si le jour correspond à un jour de vacances scolaires, 0 sinon.\n",
    "\n",
    "# Métrique\n",
    "\n",
    "La mesure de l'erreur se fera en Mean Absolute Percentage Error (MAPE), c'est-à-dire : \n",
    "\n",
    "$ \\frac{1}{n} \\displaystyle \\sum _{i=1} ^n \\frac{|y_i - \\hat{y _i}|}{y_i} $ où n correspond au nombre de couples gare x date disponibles dans le jeu de données test (test.csv)."
   ]
  },
  {
   "cell_type": "code",
   "execution_count": null,
   "metadata": {},
   "outputs": [],
   "source": []
  }
 ],
 "metadata": {
  "kernelspec": {
   "display_name": "base",
   "language": "python",
   "name": "python3"
  },
  "language_info": {
   "codemirror_mode": {
    "name": "ipython",
    "version": 3
   },
   "file_extension": ".py",
   "mimetype": "text/x-python",
   "name": "python",
   "nbconvert_exporter": "python",
   "pygments_lexer": "ipython3",
   "version": "3.9.12"
  }
 },
 "nbformat": 4,
 "nbformat_minor": 2
}
