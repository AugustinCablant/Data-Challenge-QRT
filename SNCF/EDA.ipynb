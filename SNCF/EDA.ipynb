{
 "cells": [
  {
   "cell_type": "code",
   "execution_count": 11,
   "metadata": {},
   "outputs": [],
   "source": [
    "import pandas as pd \n",
    "import numpy as np \n",
    "import matplotlib.pyplot as plt \n",
    "from datetime import datetime"
   ]
  },
  {
   "cell_type": "markdown",
   "metadata": {},
   "source": [
    "# Contexte \n",
    "\n",
    "SNCF-Transilien est l’opérateur de trains de banlieue d'Île-de-France. Nous faisons circuler plus de 6 200 trains permettant à 3,2 millions de voyageurs de se déplacer. Ces voyageurs valident leurs cartes à puce sur nos portiques en moyenne 2,3 millions de fois par jour. Le nombre de validations croît de 2015 à 2019 d’environ 6% par an. Mieux anticiper cette augmentation nous aidera à proposer des services plus adaptés et à améliorer la performance de notre exploitation.\n",
    "\n",
    "# But\n",
    "Le but de ce challenge pour SNCF-Transilien est de prédire à moyen-long terme le nombre de validations par jour et par gare.\n",
    "\n",
    "C'est un problème classique de prévision de séries temporelles. La complexité vient de la multiplicité des séries. L'objectif pour SNCF-Transilien est de pouvoir anticiper les volumes de voyageurs à absorber dans les années à venir. SNCF-Transilien est objectivé sur la croissance du volume de validations sur ses gares, l'anticiper et mieux le comprendre est essentiel pour nous.\n",
    "\n",
    "# Structure des données\n",
    "Nous utilisons la variable date pour spécifier le jour auquel les validations sont comptabilisées et station pour spécifier la gare donnée. La variable y donne le nombre de validations par jour et par gare.\n",
    "\n",
    "- Un jeu de données train.csv avec 1 237 971 lignes et 6 colonnes. Il s’agit des données quotidiennes de validations des 448 stations du réseau SNCF-Transilien (comprenant toutes les gares du RER A et du RER B) entre le 1er janvier 2015 et le 31 décembre 2022 (soit 2922 jours).\n",
    "\n",
    "- Un jeu de données test.csv avec 78 652 lignes et 6 colonnes. Il s’agit des données quotidiennes de validations des 448 stations du réseau SNCF-Transilien (comprenant toutes les gares du RER A et du RER B) entre le 1er janvier 2023 et le 30 juin 2023 (soit 181 jours).\n",
    "\n",
    "Nous vous demandons de prédire le nombre de validations (variable y) par jour pour toutes les gares de SNCF-Transilien entre le 1er janvier 2023 et le 30 juin 2023. Nous fournissons quelques variables exogènes qui pourront être enrichies.\n",
    "\n",
    "\n",
    "Variables contextuelles :\n",
    "- date : la date du jour où les validations ont été collectées au format YYYY-MM-DD ;\n",
    "\n",
    "- station : identifiant de la gare anonymisé en 3 caractères (7RP, J3V…) ;\n",
    "\n",
    "- job : indicatrice valant 1 si le jour est un JOB (Jour Ouvrable de Base), c’est-à-dire un lundi, mardi, mercredi, jeudi ou vendredi, 0 sinon ;\n",
    "\n",
    "- ferie : indicatrice valant 1 si le jour est férié, 0 sinon ;\n",
    "\n",
    "- vacances : indicatrice valant 1 si le jour correspond à un jour de vacances scolaires, 0 sinon.\n",
    "\n",
    "# Métrique\n",
    "\n",
    "La mesure de l'erreur se fera en Mean Absolute Percentage Error (MAPE), c'est-à-dire : \n",
    "\n",
    "$ \\frac{1}{n} \\displaystyle \\sum _{i=1} ^n \\frac{|y_i - \\hat{y _i}|}{y_i} $ où n correspond au nombre de couples gare x date disponibles dans le jeu de données test (test.csv)."
   ]
  },
  {
   "cell_type": "code",
   "execution_count": 21,
   "metadata": {},
   "outputs": [
    {
     "data": {
      "text/html": [
       "<div>\n",
       "<style scoped>\n",
       "    .dataframe tbody tr th:only-of-type {\n",
       "        vertical-align: middle;\n",
       "    }\n",
       "\n",
       "    .dataframe tbody tr th {\n",
       "        vertical-align: top;\n",
       "    }\n",
       "\n",
       "    .dataframe thead th {\n",
       "        text-align: right;\n",
       "    }\n",
       "</style>\n",
       "<table border=\"1\" class=\"dataframe\">\n",
       "  <thead>\n",
       "    <tr style=\"text-align: right;\">\n",
       "      <th></th>\n",
       "      <th>date</th>\n",
       "      <th>station</th>\n",
       "      <th>job</th>\n",
       "      <th>ferie</th>\n",
       "      <th>vacances</th>\n",
       "    </tr>\n",
       "  </thead>\n",
       "  <tbody>\n",
       "    <tr>\n",
       "      <th>574771</th>\n",
       "      <td>2018-03-15</td>\n",
       "      <td>QQJ</td>\n",
       "      <td>1</td>\n",
       "      <td>0</td>\n",
       "      <td>0</td>\n",
       "    </tr>\n",
       "    <tr>\n",
       "      <th>842645</th>\n",
       "      <td>2022-10-21</td>\n",
       "      <td>ANI</td>\n",
       "      <td>1</td>\n",
       "      <td>0</td>\n",
       "      <td>0</td>\n",
       "    </tr>\n",
       "    <tr>\n",
       "      <th>521987</th>\n",
       "      <td>2021-11-13</td>\n",
       "      <td>BUY</td>\n",
       "      <td>0</td>\n",
       "      <td>0</td>\n",
       "      <td>0</td>\n",
       "    </tr>\n",
       "    <tr>\n",
       "      <th>740424</th>\n",
       "      <td>2019-04-19</td>\n",
       "      <td>JFA</td>\n",
       "      <td>1</td>\n",
       "      <td>0</td>\n",
       "      <td>0</td>\n",
       "    </tr>\n",
       "    <tr>\n",
       "      <th>55749</th>\n",
       "      <td>2019-05-02</td>\n",
       "      <td>VVQ</td>\n",
       "      <td>1</td>\n",
       "      <td>0</td>\n",
       "      <td>1</td>\n",
       "    </tr>\n",
       "  </tbody>\n",
       "</table>\n",
       "</div>"
      ],
      "text/plain": [
       "              date station  job  ferie  vacances\n",
       "574771  2018-03-15     QQJ    1      0         0\n",
       "842645  2022-10-21     ANI    1      0         0\n",
       "521987  2021-11-13     BUY    0      0         0\n",
       "740424  2019-04-19     JFA    1      0         0\n",
       "55749   2019-05-02     VVQ    1      0         1"
      ]
     },
     "execution_count": 21,
     "metadata": {},
     "output_type": "execute_result"
    }
   ],
   "source": [
    "df = pd.read_csv('/Users/augustincablant/Desktop/challenge_SNCF/train_f_x.csv')\n",
    "y = pd.read_csv('/Users/augustincablant/Desktop/challenge_SNCF/y_train_sncf.csv')\n",
    "df.sample(5)"
   ]
  },
  {
   "cell_type": "code",
   "execution_count": 22,
   "metadata": {},
   "outputs": [
    {
     "data": {
      "text/plain": [
       "((1229863, 5), (1229863, 2))"
      ]
     },
     "execution_count": 22,
     "metadata": {},
     "output_type": "execute_result"
    }
   ],
   "source": [
    "df.shape, y.shape"
   ]
  },
  {
   "cell_type": "code",
   "execution_count": 4,
   "metadata": {},
   "outputs": [
    {
     "data": {
      "text/plain": [
       "439"
      ]
     },
     "execution_count": 4,
     "metadata": {},
     "output_type": "execute_result"
    }
   ],
   "source": [
    "# Les différents types de stations (identifiant de la gare)\n",
    "len(df['station'].unique())"
   ]
  },
  {
   "cell_type": "code",
   "execution_count": 8,
   "metadata": {},
   "outputs": [
    {
     "data": {
      "text/plain": [
       "('2015-01-01', '2022-12-31')"
      ]
     },
     "execution_count": 8,
     "metadata": {},
     "output_type": "execute_result"
    }
   ],
   "source": [
    "df['date'].min(), df['date'].max()"
   ]
  },
  {
   "cell_type": "code",
   "execution_count": 20,
   "metadata": {},
   "outputs": [
    {
     "ename": "TypeError",
     "evalue": "an integer is required (got type str)",
     "output_type": "error",
     "traceback": [
      "\u001b[0;31m---------------------------------------------------------------------------\u001b[0m",
      "\u001b[0;31mTypeError\u001b[0m                                 Traceback (most recent call last)",
      "\u001b[0;32m/var/folders/bt/r1dg46ys21lb57m4n4x11m6c0000gn/T/ipykernel_18882/469840457.py\u001b[0m in \u001b[0;36m<module>\u001b[0;34m\u001b[0m\n\u001b[0;32m----> 1\u001b[0;31m \u001b[0mdatetime\u001b[0m\u001b[0;34m(\u001b[0m\u001b[0mdf\u001b[0m\u001b[0;34m[\u001b[0m\u001b[0;34m'date'\u001b[0m\u001b[0;34m]\u001b[0m\u001b[0;34m.\u001b[0m\u001b[0mmin\u001b[0m\u001b[0;34m(\u001b[0m\u001b[0;34m)\u001b[0m\u001b[0;34m)\u001b[0m\u001b[0;34m\u001b[0m\u001b[0;34m\u001b[0m\u001b[0m\n\u001b[0m",
      "\u001b[0;31mTypeError\u001b[0m: an integer is required (got type str)"
     ]
    }
   ],
   "source": [
    "\n",
    "datetime(df['date'].min())"
   ]
  },
  {
   "cell_type": "code",
   "execution_count": null,
   "metadata": {},
   "outputs": [],
   "source": []
  }
 ],
 "metadata": {
  "kernelspec": {
   "display_name": "base",
   "language": "python",
   "name": "python3"
  },
  "language_info": {
   "codemirror_mode": {
    "name": "ipython",
    "version": 3
   },
   "file_extension": ".py",
   "mimetype": "text/x-python",
   "name": "python",
   "nbconvert_exporter": "python",
   "pygments_lexer": "ipython3",
   "version": "3.9.12"
  }
 },
 "nbformat": 4,
 "nbformat_minor": 2
}
